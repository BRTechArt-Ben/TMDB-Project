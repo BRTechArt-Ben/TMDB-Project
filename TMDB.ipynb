{
 "cells": [
  {
   "cell_type": "markdown",
   "metadata": {
    "id": "PREhrJTaqie9"
   },
   "source": [
    "# **TMDB Project**\n",
    "---"
   ]
  },
  {
   "cell_type": "markdown",
   "metadata": {
    "id": "g-vqNUMLu6iS"
   },
   "source": [
    "# Acknowledgements\n",
    "---"
   ]
  },
  {
   "cell_type": "markdown",
   "metadata": {
    "id": "KaeRLDUSvHHT"
   },
   "source": [
    "`1. The database contained a considerable amount of missing values, which then required a considerable amount of \"clean-up\". The determined types of missing data is a combination of:`\n",
    "\n",
    "`- Missing dependent on unobserved parameters (MDP)`\n",
    "\n",
    "`- Missing at random (MAR)`\n",
    "\n",
    "`- Missing completely at random (MCAR)`\n",
    "\n",
    "` `\n",
    "\n",
    "`2. My approach in handling the missing values was to populate them with a central tendency value.`\n",
    "\n",
    "`For numeric data:  this was the MEAN for non-financial data and MEDIAN for financial data.`\n",
    "\n",
    "`For categorical data:  this was a string flag 'undetermined'.`"
   ]
  },
  {
   "cell_type": "markdown",
   "metadata": {
    "id": "ZkMj5eJk3U22"
   },
   "source": [
    "# 0. | Project Foundations\n",
    "---"
   ]
  },
  {
   "cell_type": "markdown",
   "metadata": {
    "id": "NIejiCZvtAfE"
   },
   "source": [
    "## 0.0 | Module Imports"
   ]
  },
  {
   "cell_type": "code",
   "execution_count": 51,
   "metadata": {
    "executionInfo": {
     "elapsed": 6226,
     "status": "ok",
     "timestamp": 1732610549896,
     "user": {
      "displayName": "BRTechArt -Ben Russell",
      "userId": "07222198556679235222"
     },
     "user_tz": 0
    },
    "id": "ixEhsIs9d9Af"
   },
   "outputs": [],
   "source": [
    "# Module imports\n",
    "\n",
    "import pandas as pd               # Dataframes & Data analysis\n",
    "import numpy as np                # Numpy!\n",
    "import seaborn as sns             # Visualisation!\n",
    "import matplotlib.pyplot as plt   # Visualisation!\n",
    "import ast                        # To decode data in JSON format"
   ]
  },
  {
   "cell_type": "markdown",
   "metadata": {
    "id": "XiNjI1CCtFyH"
   },
   "source": [
    "## 0.1 | Dataset Upload & Import"
   ]
  },
  {
   "cell_type": "code",
   "execution_count": 52,
   "metadata": {
    "executionInfo": {
     "elapsed": 203,
     "status": "ok",
     "timestamp": 1732626263750,
     "user": {
      "displayName": "BRTechArt -Ben Russell",
      "userId": "07222198556679235222"
     },
     "user_tz": 0
    },
    "id": "4RaDg7jrfSuW"
   },
   "outputs": [],
   "source": [
    "# Dataframe creation\n",
    "\n",
    "import io\n",
    "df = pd.read_csv(\"C:/_General/02_Data Analyst - Digital Futures/Academy/_Projects/03_TMDB/Dataset/TMDB_movies.csv\")"
   ]
  },
  {
   "cell_type": "markdown",
   "metadata": {
    "id": "DzxgYtO5tr9k"
   },
   "source": [
    "## 0.2 | Dataset Properties"
   ]
  },
  {
   "cell_type": "markdown",
   "metadata": {
    "id": "giRYODFj84ik"
   },
   "source": [
    "### 0.2.1 | Preview"
   ]
  },
  {
   "cell_type": "code",
   "execution_count": 53,
   "metadata": {
    "colab": {
     "base_uri": "https://localhost:8080/",
     "height": 0
    },
    "executionInfo": {
     "elapsed": 292,
     "status": "ok",
     "timestamp": 1732626265332,
     "user": {
      "displayName": "BRTechArt -Ben Russell",
      "userId": "07222198556679235222"
     },
     "user_tz": 0
    },
    "id": "hGOWqrksx5k-",
    "outputId": "3262716d-e535-4db6-d31f-faf90114c0fa"
   },
   "outputs": [
    {
     "data": {
      "text/html": [
       "<div>\n",
       "<style scoped>\n",
       "    .dataframe tbody tr th:only-of-type {\n",
       "        vertical-align: middle;\n",
       "    }\n",
       "\n",
       "    .dataframe tbody tr th {\n",
       "        vertical-align: top;\n",
       "    }\n",
       "\n",
       "    .dataframe thead th {\n",
       "        text-align: right;\n",
       "    }\n",
       "</style>\n",
       "<table border=\"1\" class=\"dataframe\">\n",
       "  <thead>\n",
       "    <tr style=\"text-align: right;\">\n",
       "      <th></th>\n",
       "      <th>budget</th>\n",
       "      <th>genres</th>\n",
       "      <th>homepage</th>\n",
       "      <th>id</th>\n",
       "      <th>keywords</th>\n",
       "      <th>original_language</th>\n",
       "      <th>original_title</th>\n",
       "      <th>overview</th>\n",
       "      <th>popularity</th>\n",
       "      <th>production_companies</th>\n",
       "      <th>production_countries</th>\n",
       "      <th>release_date</th>\n",
       "      <th>revenue</th>\n",
       "      <th>runtime</th>\n",
       "      <th>spoken_languages</th>\n",
       "      <th>status</th>\n",
       "      <th>tagline</th>\n",
       "      <th>title</th>\n",
       "      <th>vote_average</th>\n",
       "      <th>vote_count</th>\n",
       "    </tr>\n",
       "  </thead>\n",
       "  <tbody>\n",
       "    <tr>\n",
       "      <th>0</th>\n",
       "      <td>237000000</td>\n",
       "      <td>[{\"id\": 28, \"name\": \"Action\"}, {\"id\": 12, \"nam...</td>\n",
       "      <td>http://www.avatarmovie.com/</td>\n",
       "      <td>19995</td>\n",
       "      <td>[{\"id\": 1463, \"name\": \"culture clash\"}, {\"id\":...</td>\n",
       "      <td>en</td>\n",
       "      <td>Avatar</td>\n",
       "      <td>In the 22nd century, a paraplegic Marine is di...</td>\n",
       "      <td>150.437577</td>\n",
       "      <td>[{\"name\": \"Ingenious Film Partners\", \"id\": 289...</td>\n",
       "      <td>[{\"iso_3166_1\": \"US\", \"name\": \"United States o...</td>\n",
       "      <td>2009-12-10</td>\n",
       "      <td>2787965087</td>\n",
       "      <td>162.0</td>\n",
       "      <td>[{\"iso_639_1\": \"en\", \"name\": \"English\"}, {\"iso...</td>\n",
       "      <td>Released</td>\n",
       "      <td>Enter the World of Pandora.</td>\n",
       "      <td>Avatar</td>\n",
       "      <td>7.2</td>\n",
       "      <td>11800</td>\n",
       "    </tr>\n",
       "    <tr>\n",
       "      <th>1</th>\n",
       "      <td>300000000</td>\n",
       "      <td>[{\"id\": 12, \"name\": \"Adventure\"}, {\"id\": 14, \"...</td>\n",
       "      <td>http://disney.go.com/disneypictures/pirates/</td>\n",
       "      <td>285</td>\n",
       "      <td>[{\"id\": 270, \"name\": \"ocean\"}, {\"id\": 726, \"na...</td>\n",
       "      <td>en</td>\n",
       "      <td>Pirates of the Caribbean: At World's End</td>\n",
       "      <td>Captain Barbossa, long believed to be dead, ha...</td>\n",
       "      <td>139.082615</td>\n",
       "      <td>[{\"name\": \"Walt Disney Pictures\", \"id\": 2}, {\"...</td>\n",
       "      <td>[{\"iso_3166_1\": \"US\", \"name\": \"United States o...</td>\n",
       "      <td>2007-05-19</td>\n",
       "      <td>961000000</td>\n",
       "      <td>169.0</td>\n",
       "      <td>[{\"iso_639_1\": \"en\", \"name\": \"English\"}]</td>\n",
       "      <td>Released</td>\n",
       "      <td>At the end of the world, the adventure begins.</td>\n",
       "      <td>Pirates of the Caribbean: At World's End</td>\n",
       "      <td>6.9</td>\n",
       "      <td>4500</td>\n",
       "    </tr>\n",
       "    <tr>\n",
       "      <th>2</th>\n",
       "      <td>245000000</td>\n",
       "      <td>[{\"id\": 28, \"name\": \"Action\"}, {\"id\": 12, \"nam...</td>\n",
       "      <td>http://www.sonypictures.com/movies/spectre/</td>\n",
       "      <td>206647</td>\n",
       "      <td>[{\"id\": 470, \"name\": \"spy\"}, {\"id\": 818, \"name...</td>\n",
       "      <td>en</td>\n",
       "      <td>Spectre</td>\n",
       "      <td>A cryptic message from Bond’s past sends him o...</td>\n",
       "      <td>107.376788</td>\n",
       "      <td>[{\"name\": \"Columbia Pictures\", \"id\": 5}, {\"nam...</td>\n",
       "      <td>[{\"iso_3166_1\": \"GB\", \"name\": \"United Kingdom\"...</td>\n",
       "      <td>2015-10-26</td>\n",
       "      <td>880674609</td>\n",
       "      <td>148.0</td>\n",
       "      <td>[{\"iso_639_1\": \"fr\", \"name\": \"Fran\\u00e7ais\"},...</td>\n",
       "      <td>Released</td>\n",
       "      <td>A Plan No One Escapes</td>\n",
       "      <td>Spectre</td>\n",
       "      <td>6.3</td>\n",
       "      <td>4466</td>\n",
       "    </tr>\n",
       "    <tr>\n",
       "      <th>3</th>\n",
       "      <td>250000000</td>\n",
       "      <td>[{\"id\": 28, \"name\": \"Action\"}, {\"id\": 80, \"nam...</td>\n",
       "      <td>http://www.thedarkknightrises.com/</td>\n",
       "      <td>49026</td>\n",
       "      <td>[{\"id\": 849, \"name\": \"dc comics\"}, {\"id\": 853,...</td>\n",
       "      <td>en</td>\n",
       "      <td>The Dark Knight Rises</td>\n",
       "      <td>Following the death of District Attorney Harve...</td>\n",
       "      <td>112.312950</td>\n",
       "      <td>[{\"name\": \"Legendary Pictures\", \"id\": 923}, {\"...</td>\n",
       "      <td>[{\"iso_3166_1\": \"US\", \"name\": \"United States o...</td>\n",
       "      <td>2012-07-16</td>\n",
       "      <td>1084939099</td>\n",
       "      <td>165.0</td>\n",
       "      <td>[{\"iso_639_1\": \"en\", \"name\": \"English\"}]</td>\n",
       "      <td>Released</td>\n",
       "      <td>The Legend Ends</td>\n",
       "      <td>The Dark Knight Rises</td>\n",
       "      <td>7.6</td>\n",
       "      <td>9106</td>\n",
       "    </tr>\n",
       "    <tr>\n",
       "      <th>4</th>\n",
       "      <td>260000000</td>\n",
       "      <td>[{\"id\": 28, \"name\": \"Action\"}, {\"id\": 12, \"nam...</td>\n",
       "      <td>http://movies.disney.com/john-carter</td>\n",
       "      <td>49529</td>\n",
       "      <td>[{\"id\": 818, \"name\": \"based on novel\"}, {\"id\":...</td>\n",
       "      <td>en</td>\n",
       "      <td>John Carter</td>\n",
       "      <td>John Carter is a war-weary, former military ca...</td>\n",
       "      <td>43.926995</td>\n",
       "      <td>[{\"name\": \"Walt Disney Pictures\", \"id\": 2}]</td>\n",
       "      <td>[{\"iso_3166_1\": \"US\", \"name\": \"United States o...</td>\n",
       "      <td>2012-03-07</td>\n",
       "      <td>284139100</td>\n",
       "      <td>132.0</td>\n",
       "      <td>[{\"iso_639_1\": \"en\", \"name\": \"English\"}]</td>\n",
       "      <td>Released</td>\n",
       "      <td>Lost in our world, found in another.</td>\n",
       "      <td>John Carter</td>\n",
       "      <td>6.1</td>\n",
       "      <td>2124</td>\n",
       "    </tr>\n",
       "  </tbody>\n",
       "</table>\n",
       "</div>"
      ],
      "text/plain": [
       "      budget                                             genres  \\\n",
       "0  237000000  [{\"id\": 28, \"name\": \"Action\"}, {\"id\": 12, \"nam...   \n",
       "1  300000000  [{\"id\": 12, \"name\": \"Adventure\"}, {\"id\": 14, \"...   \n",
       "2  245000000  [{\"id\": 28, \"name\": \"Action\"}, {\"id\": 12, \"nam...   \n",
       "3  250000000  [{\"id\": 28, \"name\": \"Action\"}, {\"id\": 80, \"nam...   \n",
       "4  260000000  [{\"id\": 28, \"name\": \"Action\"}, {\"id\": 12, \"nam...   \n",
       "\n",
       "                                       homepage      id  \\\n",
       "0                   http://www.avatarmovie.com/   19995   \n",
       "1  http://disney.go.com/disneypictures/pirates/     285   \n",
       "2   http://www.sonypictures.com/movies/spectre/  206647   \n",
       "3            http://www.thedarkknightrises.com/   49026   \n",
       "4          http://movies.disney.com/john-carter   49529   \n",
       "\n",
       "                                            keywords original_language  \\\n",
       "0  [{\"id\": 1463, \"name\": \"culture clash\"}, {\"id\":...                en   \n",
       "1  [{\"id\": 270, \"name\": \"ocean\"}, {\"id\": 726, \"na...                en   \n",
       "2  [{\"id\": 470, \"name\": \"spy\"}, {\"id\": 818, \"name...                en   \n",
       "3  [{\"id\": 849, \"name\": \"dc comics\"}, {\"id\": 853,...                en   \n",
       "4  [{\"id\": 818, \"name\": \"based on novel\"}, {\"id\":...                en   \n",
       "\n",
       "                             original_title  \\\n",
       "0                                    Avatar   \n",
       "1  Pirates of the Caribbean: At World's End   \n",
       "2                                   Spectre   \n",
       "3                     The Dark Knight Rises   \n",
       "4                               John Carter   \n",
       "\n",
       "                                            overview  popularity  \\\n",
       "0  In the 22nd century, a paraplegic Marine is di...  150.437577   \n",
       "1  Captain Barbossa, long believed to be dead, ha...  139.082615   \n",
       "2  A cryptic message from Bond’s past sends him o...  107.376788   \n",
       "3  Following the death of District Attorney Harve...  112.312950   \n",
       "4  John Carter is a war-weary, former military ca...   43.926995   \n",
       "\n",
       "                                production_companies  \\\n",
       "0  [{\"name\": \"Ingenious Film Partners\", \"id\": 289...   \n",
       "1  [{\"name\": \"Walt Disney Pictures\", \"id\": 2}, {\"...   \n",
       "2  [{\"name\": \"Columbia Pictures\", \"id\": 5}, {\"nam...   \n",
       "3  [{\"name\": \"Legendary Pictures\", \"id\": 923}, {\"...   \n",
       "4        [{\"name\": \"Walt Disney Pictures\", \"id\": 2}]   \n",
       "\n",
       "                                production_countries release_date     revenue  \\\n",
       "0  [{\"iso_3166_1\": \"US\", \"name\": \"United States o...   2009-12-10  2787965087   \n",
       "1  [{\"iso_3166_1\": \"US\", \"name\": \"United States o...   2007-05-19   961000000   \n",
       "2  [{\"iso_3166_1\": \"GB\", \"name\": \"United Kingdom\"...   2015-10-26   880674609   \n",
       "3  [{\"iso_3166_1\": \"US\", \"name\": \"United States o...   2012-07-16  1084939099   \n",
       "4  [{\"iso_3166_1\": \"US\", \"name\": \"United States o...   2012-03-07   284139100   \n",
       "\n",
       "   runtime                                   spoken_languages    status  \\\n",
       "0    162.0  [{\"iso_639_1\": \"en\", \"name\": \"English\"}, {\"iso...  Released   \n",
       "1    169.0           [{\"iso_639_1\": \"en\", \"name\": \"English\"}]  Released   \n",
       "2    148.0  [{\"iso_639_1\": \"fr\", \"name\": \"Fran\\u00e7ais\"},...  Released   \n",
       "3    165.0           [{\"iso_639_1\": \"en\", \"name\": \"English\"}]  Released   \n",
       "4    132.0           [{\"iso_639_1\": \"en\", \"name\": \"English\"}]  Released   \n",
       "\n",
       "                                          tagline  \\\n",
       "0                     Enter the World of Pandora.   \n",
       "1  At the end of the world, the adventure begins.   \n",
       "2                           A Plan No One Escapes   \n",
       "3                                 The Legend Ends   \n",
       "4            Lost in our world, found in another.   \n",
       "\n",
       "                                      title  vote_average  vote_count  \n",
       "0                                    Avatar           7.2       11800  \n",
       "1  Pirates of the Caribbean: At World's End           6.9        4500  \n",
       "2                                   Spectre           6.3        4466  \n",
       "3                     The Dark Knight Rises           7.6        9106  \n",
       "4                               John Carter           6.1        2124  "
      ]
     },
     "execution_count": 53,
     "metadata": {},
     "output_type": "execute_result"
    }
   ],
   "source": [
    "# Dataset preview\n",
    "\n",
    "df.head()"
   ]
  },
  {
   "cell_type": "markdown",
   "metadata": {
    "id": "Xskw4CMn886f"
   },
   "source": [
    "### 0.2.2 | Shape"
   ]
  },
  {
   "cell_type": "code",
   "execution_count": 54,
   "metadata": {
    "colab": {
     "base_uri": "https://localhost:8080/"
    },
    "executionInfo": {
     "elapsed": 2,
     "status": "ok",
     "timestamp": 1732626265548,
     "user": {
      "displayName": "BRTechArt -Ben Russell",
      "userId": "07222198556679235222"
     },
     "user_tz": 0
    },
    "id": "BcxsVYttt6Jp",
    "outputId": "c75d09c0-481a-4c95-eef7-3e8982183a88"
   },
   "outputs": [
    {
     "data": {
      "text/plain": [
       "(4803, 20)"
      ]
     },
     "execution_count": 54,
     "metadata": {},
     "output_type": "execute_result"
    }
   ],
   "source": [
    "# Dataset shape\n",
    "\n",
    "df.shape"
   ]
  },
  {
   "cell_type": "markdown",
   "metadata": {
    "id": "e9jnBot59Mvv"
   },
   "source": [
    "### 0.2.3 | Describe (Numeric)"
   ]
  },
  {
   "cell_type": "code",
   "execution_count": 55,
   "metadata": {
    "colab": {
     "base_uri": "https://localhost:8080/",
     "height": 300
    },
    "executionInfo": {
     "elapsed": 3,
     "status": "ok",
     "timestamp": 1732626265549,
     "user": {
      "displayName": "BRTechArt -Ben Russell",
      "userId": "07222198556679235222"
     },
     "user_tz": 0
    },
    "id": "GSvyuMa9xXBp",
    "outputId": "8074f429-6894-4ce2-d776-a1411c267662"
   },
   "outputs": [
    {
     "data": {
      "text/html": [
       "<div>\n",
       "<style scoped>\n",
       "    .dataframe tbody tr th:only-of-type {\n",
       "        vertical-align: middle;\n",
       "    }\n",
       "\n",
       "    .dataframe tbody tr th {\n",
       "        vertical-align: top;\n",
       "    }\n",
       "\n",
       "    .dataframe thead th {\n",
       "        text-align: right;\n",
       "    }\n",
       "</style>\n",
       "<table border=\"1\" class=\"dataframe\">\n",
       "  <thead>\n",
       "    <tr style=\"text-align: right;\">\n",
       "      <th></th>\n",
       "      <th>budget</th>\n",
       "      <th>id</th>\n",
       "      <th>popularity</th>\n",
       "      <th>revenue</th>\n",
       "      <th>runtime</th>\n",
       "      <th>vote_average</th>\n",
       "      <th>vote_count</th>\n",
       "    </tr>\n",
       "  </thead>\n",
       "  <tbody>\n",
       "    <tr>\n",
       "      <th>count</th>\n",
       "      <td>4.803000e+03</td>\n",
       "      <td>4803.000000</td>\n",
       "      <td>4803.000000</td>\n",
       "      <td>4.803000e+03</td>\n",
       "      <td>4801.000000</td>\n",
       "      <td>4803.000000</td>\n",
       "      <td>4803.000000</td>\n",
       "    </tr>\n",
       "    <tr>\n",
       "      <th>mean</th>\n",
       "      <td>2.904504e+07</td>\n",
       "      <td>57165.484281</td>\n",
       "      <td>21.492301</td>\n",
       "      <td>8.226064e+07</td>\n",
       "      <td>106.875859</td>\n",
       "      <td>6.092172</td>\n",
       "      <td>690.217989</td>\n",
       "    </tr>\n",
       "    <tr>\n",
       "      <th>std</th>\n",
       "      <td>4.072239e+07</td>\n",
       "      <td>88694.614033</td>\n",
       "      <td>31.816650</td>\n",
       "      <td>1.628571e+08</td>\n",
       "      <td>22.611935</td>\n",
       "      <td>1.194612</td>\n",
       "      <td>1234.585891</td>\n",
       "    </tr>\n",
       "    <tr>\n",
       "      <th>min</th>\n",
       "      <td>0.000000e+00</td>\n",
       "      <td>5.000000</td>\n",
       "      <td>0.000000</td>\n",
       "      <td>0.000000e+00</td>\n",
       "      <td>0.000000</td>\n",
       "      <td>0.000000</td>\n",
       "      <td>0.000000</td>\n",
       "    </tr>\n",
       "    <tr>\n",
       "      <th>25%</th>\n",
       "      <td>7.900000e+05</td>\n",
       "      <td>9014.500000</td>\n",
       "      <td>4.668070</td>\n",
       "      <td>0.000000e+00</td>\n",
       "      <td>94.000000</td>\n",
       "      <td>5.600000</td>\n",
       "      <td>54.000000</td>\n",
       "    </tr>\n",
       "    <tr>\n",
       "      <th>50%</th>\n",
       "      <td>1.500000e+07</td>\n",
       "      <td>14629.000000</td>\n",
       "      <td>12.921594</td>\n",
       "      <td>1.917000e+07</td>\n",
       "      <td>103.000000</td>\n",
       "      <td>6.200000</td>\n",
       "      <td>235.000000</td>\n",
       "    </tr>\n",
       "    <tr>\n",
       "      <th>75%</th>\n",
       "      <td>4.000000e+07</td>\n",
       "      <td>58610.500000</td>\n",
       "      <td>28.313505</td>\n",
       "      <td>9.291719e+07</td>\n",
       "      <td>118.000000</td>\n",
       "      <td>6.800000</td>\n",
       "      <td>737.000000</td>\n",
       "    </tr>\n",
       "    <tr>\n",
       "      <th>max</th>\n",
       "      <td>3.800000e+08</td>\n",
       "      <td>459488.000000</td>\n",
       "      <td>875.581305</td>\n",
       "      <td>2.787965e+09</td>\n",
       "      <td>338.000000</td>\n",
       "      <td>10.000000</td>\n",
       "      <td>13752.000000</td>\n",
       "    </tr>\n",
       "  </tbody>\n",
       "</table>\n",
       "</div>"
      ],
      "text/plain": [
       "             budget             id   popularity       revenue      runtime  \\\n",
       "count  4.803000e+03    4803.000000  4803.000000  4.803000e+03  4801.000000   \n",
       "mean   2.904504e+07   57165.484281    21.492301  8.226064e+07   106.875859   \n",
       "std    4.072239e+07   88694.614033    31.816650  1.628571e+08    22.611935   \n",
       "min    0.000000e+00       5.000000     0.000000  0.000000e+00     0.000000   \n",
       "25%    7.900000e+05    9014.500000     4.668070  0.000000e+00    94.000000   \n",
       "50%    1.500000e+07   14629.000000    12.921594  1.917000e+07   103.000000   \n",
       "75%    4.000000e+07   58610.500000    28.313505  9.291719e+07   118.000000   \n",
       "max    3.800000e+08  459488.000000   875.581305  2.787965e+09   338.000000   \n",
       "\n",
       "       vote_average    vote_count  \n",
       "count   4803.000000   4803.000000  \n",
       "mean       6.092172    690.217989  \n",
       "std        1.194612   1234.585891  \n",
       "min        0.000000      0.000000  \n",
       "25%        5.600000     54.000000  \n",
       "50%        6.200000    235.000000  \n",
       "75%        6.800000    737.000000  \n",
       "max       10.000000  13752.000000  "
      ]
     },
     "execution_count": 55,
     "metadata": {},
     "output_type": "execute_result"
    }
   ],
   "source": [
    "# Dataset describe\n",
    "\n",
    "df.describe()"
   ]
  },
  {
   "cell_type": "markdown",
   "metadata": {
    "id": "RI7-pFlt9I9c"
   },
   "source": [
    "### 0.2.4 | Describe (All)"
   ]
  },
  {
   "cell_type": "code",
   "execution_count": 56,
   "metadata": {
    "colab": {
     "base_uri": "https://localhost:8080/",
     "height": 501
    },
    "executionInfo": {
     "elapsed": 323,
     "status": "ok",
     "timestamp": 1732626265870,
     "user": {
      "displayName": "BRTechArt -Ben Russell",
      "userId": "07222198556679235222"
     },
     "user_tz": 0
    },
    "id": "mZj_RnrY1_Sh",
    "outputId": "a82be74d-7678-4447-ce7b-8c57da09b36b"
   },
   "outputs": [
    {
     "data": {
      "text/html": [
       "<div>\n",
       "<style scoped>\n",
       "    .dataframe tbody tr th:only-of-type {\n",
       "        vertical-align: middle;\n",
       "    }\n",
       "\n",
       "    .dataframe tbody tr th {\n",
       "        vertical-align: top;\n",
       "    }\n",
       "\n",
       "    .dataframe thead th {\n",
       "        text-align: right;\n",
       "    }\n",
       "</style>\n",
       "<table border=\"1\" class=\"dataframe\">\n",
       "  <thead>\n",
       "    <tr style=\"text-align: right;\">\n",
       "      <th></th>\n",
       "      <th>budget</th>\n",
       "      <th>genres</th>\n",
       "      <th>homepage</th>\n",
       "      <th>id</th>\n",
       "      <th>keywords</th>\n",
       "      <th>original_language</th>\n",
       "      <th>original_title</th>\n",
       "      <th>overview</th>\n",
       "      <th>popularity</th>\n",
       "      <th>production_companies</th>\n",
       "      <th>production_countries</th>\n",
       "      <th>release_date</th>\n",
       "      <th>revenue</th>\n",
       "      <th>runtime</th>\n",
       "      <th>spoken_languages</th>\n",
       "      <th>status</th>\n",
       "      <th>tagline</th>\n",
       "      <th>title</th>\n",
       "      <th>vote_average</th>\n",
       "      <th>vote_count</th>\n",
       "    </tr>\n",
       "  </thead>\n",
       "  <tbody>\n",
       "    <tr>\n",
       "      <th>count</th>\n",
       "      <td>4.803000e+03</td>\n",
       "      <td>4803</td>\n",
       "      <td>1712</td>\n",
       "      <td>4803.000000</td>\n",
       "      <td>4803</td>\n",
       "      <td>4803</td>\n",
       "      <td>4803</td>\n",
       "      <td>4800</td>\n",
       "      <td>4803.000000</td>\n",
       "      <td>4803</td>\n",
       "      <td>4803</td>\n",
       "      <td>4802</td>\n",
       "      <td>4.803000e+03</td>\n",
       "      <td>4801.000000</td>\n",
       "      <td>4803</td>\n",
       "      <td>4803</td>\n",
       "      <td>3959</td>\n",
       "      <td>4803</td>\n",
       "      <td>4803.000000</td>\n",
       "      <td>4803.000000</td>\n",
       "    </tr>\n",
       "    <tr>\n",
       "      <th>unique</th>\n",
       "      <td>NaN</td>\n",
       "      <td>1175</td>\n",
       "      <td>1691</td>\n",
       "      <td>NaN</td>\n",
       "      <td>4222</td>\n",
       "      <td>37</td>\n",
       "      <td>4801</td>\n",
       "      <td>4800</td>\n",
       "      <td>NaN</td>\n",
       "      <td>3697</td>\n",
       "      <td>469</td>\n",
       "      <td>3280</td>\n",
       "      <td>NaN</td>\n",
       "      <td>NaN</td>\n",
       "      <td>544</td>\n",
       "      <td>3</td>\n",
       "      <td>3944</td>\n",
       "      <td>4800</td>\n",
       "      <td>NaN</td>\n",
       "      <td>NaN</td>\n",
       "    </tr>\n",
       "    <tr>\n",
       "      <th>top</th>\n",
       "      <td>NaN</td>\n",
       "      <td>[{\"id\": 18, \"name\": \"Drama\"}]</td>\n",
       "      <td>http://www.thehungergames.movie/</td>\n",
       "      <td>NaN</td>\n",
       "      <td>[]</td>\n",
       "      <td>en</td>\n",
       "      <td>Batman</td>\n",
       "      <td>Two brothers share a house in LA's Fairfax dis...</td>\n",
       "      <td>NaN</td>\n",
       "      <td>[]</td>\n",
       "      <td>[{\"iso_3166_1\": \"US\", \"name\": \"United States o...</td>\n",
       "      <td>2006-01-01</td>\n",
       "      <td>NaN</td>\n",
       "      <td>NaN</td>\n",
       "      <td>[{\"iso_639_1\": \"en\", \"name\": \"English\"}]</td>\n",
       "      <td>Released</td>\n",
       "      <td>Based on a true story.</td>\n",
       "      <td>The Host</td>\n",
       "      <td>NaN</td>\n",
       "      <td>NaN</td>\n",
       "    </tr>\n",
       "    <tr>\n",
       "      <th>freq</th>\n",
       "      <td>NaN</td>\n",
       "      <td>370</td>\n",
       "      <td>4</td>\n",
       "      <td>NaN</td>\n",
       "      <td>412</td>\n",
       "      <td>4505</td>\n",
       "      <td>2</td>\n",
       "      <td>1</td>\n",
       "      <td>NaN</td>\n",
       "      <td>351</td>\n",
       "      <td>2977</td>\n",
       "      <td>10</td>\n",
       "      <td>NaN</td>\n",
       "      <td>NaN</td>\n",
       "      <td>3171</td>\n",
       "      <td>4795</td>\n",
       "      <td>3</td>\n",
       "      <td>2</td>\n",
       "      <td>NaN</td>\n",
       "      <td>NaN</td>\n",
       "    </tr>\n",
       "    <tr>\n",
       "      <th>mean</th>\n",
       "      <td>2.904504e+07</td>\n",
       "      <td>NaN</td>\n",
       "      <td>NaN</td>\n",
       "      <td>57165.484281</td>\n",
       "      <td>NaN</td>\n",
       "      <td>NaN</td>\n",
       "      <td>NaN</td>\n",
       "      <td>NaN</td>\n",
       "      <td>21.492301</td>\n",
       "      <td>NaN</td>\n",
       "      <td>NaN</td>\n",
       "      <td>NaN</td>\n",
       "      <td>8.226064e+07</td>\n",
       "      <td>106.875859</td>\n",
       "      <td>NaN</td>\n",
       "      <td>NaN</td>\n",
       "      <td>NaN</td>\n",
       "      <td>NaN</td>\n",
       "      <td>6.092172</td>\n",
       "      <td>690.217989</td>\n",
       "    </tr>\n",
       "    <tr>\n",
       "      <th>std</th>\n",
       "      <td>4.072239e+07</td>\n",
       "      <td>NaN</td>\n",
       "      <td>NaN</td>\n",
       "      <td>88694.614033</td>\n",
       "      <td>NaN</td>\n",
       "      <td>NaN</td>\n",
       "      <td>NaN</td>\n",
       "      <td>NaN</td>\n",
       "      <td>31.816650</td>\n",
       "      <td>NaN</td>\n",
       "      <td>NaN</td>\n",
       "      <td>NaN</td>\n",
       "      <td>1.628571e+08</td>\n",
       "      <td>22.611935</td>\n",
       "      <td>NaN</td>\n",
       "      <td>NaN</td>\n",
       "      <td>NaN</td>\n",
       "      <td>NaN</td>\n",
       "      <td>1.194612</td>\n",
       "      <td>1234.585891</td>\n",
       "    </tr>\n",
       "    <tr>\n",
       "      <th>min</th>\n",
       "      <td>0.000000e+00</td>\n",
       "      <td>NaN</td>\n",
       "      <td>NaN</td>\n",
       "      <td>5.000000</td>\n",
       "      <td>NaN</td>\n",
       "      <td>NaN</td>\n",
       "      <td>NaN</td>\n",
       "      <td>NaN</td>\n",
       "      <td>0.000000</td>\n",
       "      <td>NaN</td>\n",
       "      <td>NaN</td>\n",
       "      <td>NaN</td>\n",
       "      <td>0.000000e+00</td>\n",
       "      <td>0.000000</td>\n",
       "      <td>NaN</td>\n",
       "      <td>NaN</td>\n",
       "      <td>NaN</td>\n",
       "      <td>NaN</td>\n",
       "      <td>0.000000</td>\n",
       "      <td>0.000000</td>\n",
       "    </tr>\n",
       "    <tr>\n",
       "      <th>25%</th>\n",
       "      <td>7.900000e+05</td>\n",
       "      <td>NaN</td>\n",
       "      <td>NaN</td>\n",
       "      <td>9014.500000</td>\n",
       "      <td>NaN</td>\n",
       "      <td>NaN</td>\n",
       "      <td>NaN</td>\n",
       "      <td>NaN</td>\n",
       "      <td>4.668070</td>\n",
       "      <td>NaN</td>\n",
       "      <td>NaN</td>\n",
       "      <td>NaN</td>\n",
       "      <td>0.000000e+00</td>\n",
       "      <td>94.000000</td>\n",
       "      <td>NaN</td>\n",
       "      <td>NaN</td>\n",
       "      <td>NaN</td>\n",
       "      <td>NaN</td>\n",
       "      <td>5.600000</td>\n",
       "      <td>54.000000</td>\n",
       "    </tr>\n",
       "    <tr>\n",
       "      <th>50%</th>\n",
       "      <td>1.500000e+07</td>\n",
       "      <td>NaN</td>\n",
       "      <td>NaN</td>\n",
       "      <td>14629.000000</td>\n",
       "      <td>NaN</td>\n",
       "      <td>NaN</td>\n",
       "      <td>NaN</td>\n",
       "      <td>NaN</td>\n",
       "      <td>12.921594</td>\n",
       "      <td>NaN</td>\n",
       "      <td>NaN</td>\n",
       "      <td>NaN</td>\n",
       "      <td>1.917000e+07</td>\n",
       "      <td>103.000000</td>\n",
       "      <td>NaN</td>\n",
       "      <td>NaN</td>\n",
       "      <td>NaN</td>\n",
       "      <td>NaN</td>\n",
       "      <td>6.200000</td>\n",
       "      <td>235.000000</td>\n",
       "    </tr>\n",
       "    <tr>\n",
       "      <th>75%</th>\n",
       "      <td>4.000000e+07</td>\n",
       "      <td>NaN</td>\n",
       "      <td>NaN</td>\n",
       "      <td>58610.500000</td>\n",
       "      <td>NaN</td>\n",
       "      <td>NaN</td>\n",
       "      <td>NaN</td>\n",
       "      <td>NaN</td>\n",
       "      <td>28.313505</td>\n",
       "      <td>NaN</td>\n",
       "      <td>NaN</td>\n",
       "      <td>NaN</td>\n",
       "      <td>9.291719e+07</td>\n",
       "      <td>118.000000</td>\n",
       "      <td>NaN</td>\n",
       "      <td>NaN</td>\n",
       "      <td>NaN</td>\n",
       "      <td>NaN</td>\n",
       "      <td>6.800000</td>\n",
       "      <td>737.000000</td>\n",
       "    </tr>\n",
       "    <tr>\n",
       "      <th>max</th>\n",
       "      <td>3.800000e+08</td>\n",
       "      <td>NaN</td>\n",
       "      <td>NaN</td>\n",
       "      <td>459488.000000</td>\n",
       "      <td>NaN</td>\n",
       "      <td>NaN</td>\n",
       "      <td>NaN</td>\n",
       "      <td>NaN</td>\n",
       "      <td>875.581305</td>\n",
       "      <td>NaN</td>\n",
       "      <td>NaN</td>\n",
       "      <td>NaN</td>\n",
       "      <td>2.787965e+09</td>\n",
       "      <td>338.000000</td>\n",
       "      <td>NaN</td>\n",
       "      <td>NaN</td>\n",
       "      <td>NaN</td>\n",
       "      <td>NaN</td>\n",
       "      <td>10.000000</td>\n",
       "      <td>13752.000000</td>\n",
       "    </tr>\n",
       "  </tbody>\n",
       "</table>\n",
       "</div>"
      ],
      "text/plain": [
       "              budget                         genres  \\\n",
       "count   4.803000e+03                           4803   \n",
       "unique           NaN                           1175   \n",
       "top              NaN  [{\"id\": 18, \"name\": \"Drama\"}]   \n",
       "freq             NaN                            370   \n",
       "mean    2.904504e+07                            NaN   \n",
       "std     4.072239e+07                            NaN   \n",
       "min     0.000000e+00                            NaN   \n",
       "25%     7.900000e+05                            NaN   \n",
       "50%     1.500000e+07                            NaN   \n",
       "75%     4.000000e+07                            NaN   \n",
       "max     3.800000e+08                            NaN   \n",
       "\n",
       "                                homepage             id keywords  \\\n",
       "count                               1712    4803.000000     4803   \n",
       "unique                              1691            NaN     4222   \n",
       "top     http://www.thehungergames.movie/            NaN       []   \n",
       "freq                                   4            NaN      412   \n",
       "mean                                 NaN   57165.484281      NaN   \n",
       "std                                  NaN   88694.614033      NaN   \n",
       "min                                  NaN       5.000000      NaN   \n",
       "25%                                  NaN    9014.500000      NaN   \n",
       "50%                                  NaN   14629.000000      NaN   \n",
       "75%                                  NaN   58610.500000      NaN   \n",
       "max                                  NaN  459488.000000      NaN   \n",
       "\n",
       "       original_language original_title  \\\n",
       "count               4803           4803   \n",
       "unique                37           4801   \n",
       "top                   en         Batman   \n",
       "freq                4505              2   \n",
       "mean                 NaN            NaN   \n",
       "std                  NaN            NaN   \n",
       "min                  NaN            NaN   \n",
       "25%                  NaN            NaN   \n",
       "50%                  NaN            NaN   \n",
       "75%                  NaN            NaN   \n",
       "max                  NaN            NaN   \n",
       "\n",
       "                                                 overview   popularity  \\\n",
       "count                                                4800  4803.000000   \n",
       "unique                                               4800          NaN   \n",
       "top     Two brothers share a house in LA's Fairfax dis...          NaN   \n",
       "freq                                                    1          NaN   \n",
       "mean                                                  NaN    21.492301   \n",
       "std                                                   NaN    31.816650   \n",
       "min                                                   NaN     0.000000   \n",
       "25%                                                   NaN     4.668070   \n",
       "50%                                                   NaN    12.921594   \n",
       "75%                                                   NaN    28.313505   \n",
       "max                                                   NaN   875.581305   \n",
       "\n",
       "       production_companies  \\\n",
       "count                  4803   \n",
       "unique                 3697   \n",
       "top                      []   \n",
       "freq                    351   \n",
       "mean                    NaN   \n",
       "std                     NaN   \n",
       "min                     NaN   \n",
       "25%                     NaN   \n",
       "50%                     NaN   \n",
       "75%                     NaN   \n",
       "max                     NaN   \n",
       "\n",
       "                                     production_countries release_date  \\\n",
       "count                                                4803         4802   \n",
       "unique                                                469         3280   \n",
       "top     [{\"iso_3166_1\": \"US\", \"name\": \"United States o...   2006-01-01   \n",
       "freq                                                 2977           10   \n",
       "mean                                                  NaN          NaN   \n",
       "std                                                   NaN          NaN   \n",
       "min                                                   NaN          NaN   \n",
       "25%                                                   NaN          NaN   \n",
       "50%                                                   NaN          NaN   \n",
       "75%                                                   NaN          NaN   \n",
       "max                                                   NaN          NaN   \n",
       "\n",
       "             revenue      runtime                          spoken_languages  \\\n",
       "count   4.803000e+03  4801.000000                                      4803   \n",
       "unique           NaN          NaN                                       544   \n",
       "top              NaN          NaN  [{\"iso_639_1\": \"en\", \"name\": \"English\"}]   \n",
       "freq             NaN          NaN                                      3171   \n",
       "mean    8.226064e+07   106.875859                                       NaN   \n",
       "std     1.628571e+08    22.611935                                       NaN   \n",
       "min     0.000000e+00     0.000000                                       NaN   \n",
       "25%     0.000000e+00    94.000000                                       NaN   \n",
       "50%     1.917000e+07   103.000000                                       NaN   \n",
       "75%     9.291719e+07   118.000000                                       NaN   \n",
       "max     2.787965e+09   338.000000                                       NaN   \n",
       "\n",
       "          status                 tagline     title  vote_average    vote_count  \n",
       "count       4803                    3959      4803   4803.000000   4803.000000  \n",
       "unique         3                    3944      4800           NaN           NaN  \n",
       "top     Released  Based on a true story.  The Host           NaN           NaN  \n",
       "freq        4795                       3         2           NaN           NaN  \n",
       "mean         NaN                     NaN       NaN      6.092172    690.217989  \n",
       "std          NaN                     NaN       NaN      1.194612   1234.585891  \n",
       "min          NaN                     NaN       NaN      0.000000      0.000000  \n",
       "25%          NaN                     NaN       NaN      5.600000     54.000000  \n",
       "50%          NaN                     NaN       NaN      6.200000    235.000000  \n",
       "75%          NaN                     NaN       NaN      6.800000    737.000000  \n",
       "max          NaN                     NaN       NaN     10.000000  13752.000000  "
      ]
     },
     "execution_count": 56,
     "metadata": {},
     "output_type": "execute_result"
    }
   ],
   "source": [
    "# Dataset describe all\n",
    "\n",
    "df.describe(include = 'all')"
   ]
  },
  {
   "cell_type": "markdown",
   "metadata": {
    "id": "zZFH_xYP9PdV"
   },
   "source": [
    "### 0.2.5 | Information"
   ]
  },
  {
   "cell_type": "code",
   "execution_count": 57,
   "metadata": {
    "colab": {
     "base_uri": "https://localhost:8080/"
    },
    "executionInfo": {
     "elapsed": 2,
     "status": "ok",
     "timestamp": 1732626265870,
     "user": {
      "displayName": "BRTechArt -Ben Russell",
      "userId": "07222198556679235222"
     },
     "user_tz": 0
    },
    "id": "cAyYdMAQuOeG",
    "outputId": "c322f9ff-88a9-4657-f544-3cd56581ac1f"
   },
   "outputs": [
    {
     "name": "stdout",
     "output_type": "stream",
     "text": [
      "<class 'pandas.core.frame.DataFrame'>\n",
      "RangeIndex: 4803 entries, 0 to 4802\n",
      "Data columns (total 20 columns):\n",
      " #   Column                Non-Null Count  Dtype  \n",
      "---  ------                --------------  -----  \n",
      " 0   budget                4803 non-null   int64  \n",
      " 1   genres                4803 non-null   object \n",
      " 2   homepage              1712 non-null   object \n",
      " 3   id                    4803 non-null   int64  \n",
      " 4   keywords              4803 non-null   object \n",
      " 5   original_language     4803 non-null   object \n",
      " 6   original_title        4803 non-null   object \n",
      " 7   overview              4800 non-null   object \n",
      " 8   popularity            4803 non-null   float64\n",
      " 9   production_companies  4803 non-null   object \n",
      " 10  production_countries  4803 non-null   object \n",
      " 11  release_date          4802 non-null   object \n",
      " 12  revenue               4803 non-null   int64  \n",
      " 13  runtime               4801 non-null   float64\n",
      " 14  spoken_languages      4803 non-null   object \n",
      " 15  status                4803 non-null   object \n",
      " 16  tagline               3959 non-null   object \n",
      " 17  title                 4803 non-null   object \n",
      " 18  vote_average          4803 non-null   float64\n",
      " 19  vote_count            4803 non-null   int64  \n",
      "dtypes: float64(3), int64(4), object(13)\n",
      "memory usage: 750.6+ KB\n"
     ]
    }
   ],
   "source": [
    "# Dataset info\n",
    "\n",
    "df.info()"
   ]
  },
  {
   "cell_type": "markdown",
   "metadata": {
    "id": "RSWaALuh365d"
   },
   "source": [
    "# 1. | Data Cleaning\n",
    "---"
   ]
  },
  {
   "cell_type": "markdown",
   "metadata": {
    "id": "ZY1TZLW33-Gr"
   },
   "source": [
    "## 1.0 | Missing Values"
   ]
  },
  {
   "cell_type": "markdown",
   "metadata": {
    "id": "v-OqrfF52kg5"
   },
   "source": [
    "`From section '0.2.5', we can  identify there are missing values within this dataset, specifically linked with 'homepage' and 'tagline' and some anomalies in other columns, such as 'overview', 'release_date' and 'runtime'.`"
   ]
  },
  {
   "cell_type": "code",
   "execution_count": 58,
   "metadata": {
    "colab": {
     "base_uri": "https://localhost:8080/",
     "height": 747
    },
    "executionInfo": {
     "elapsed": 214,
     "status": "ok",
     "timestamp": 1732626267489,
     "user": {
      "displayName": "BRTechArt -Ben Russell",
      "userId": "07222198556679235222"
     },
     "user_tz": 0
    },
    "id": "jWBSvkCLzYYm",
    "outputId": "9a5db9ef-90f9-4aba-ecd8-f1b4b3ada52b"
   },
   "outputs": [
    {
     "name": "stdout",
     "output_type": "stream",
     "text": [
      "Total count of missing values =  3941 \n",
      "\n"
     ]
    },
    {
     "data": {
      "text/plain": [
       "budget                     0\n",
       "genres                     0\n",
       "homepage                3091\n",
       "id                         0\n",
       "keywords                   0\n",
       "original_language          0\n",
       "original_title             0\n",
       "overview                   3\n",
       "popularity                 0\n",
       "production_companies       0\n",
       "production_countries       0\n",
       "release_date               1\n",
       "revenue                    0\n",
       "runtime                    2\n",
       "spoken_languages           0\n",
       "status                     0\n",
       "tagline                  844\n",
       "title                      0\n",
       "vote_average               0\n",
       "vote_count                 0\n",
       "dtype: int64"
      ]
     },
     "execution_count": 58,
     "metadata": {},
     "output_type": "execute_result"
    }
   ],
   "source": [
    "# Count missing values\n",
    "\n",
    "print(\"Total count of missing values = \", df.isnull().sum().sum(), \"\\n\")\n",
    "df.isnull().sum()"
   ]
  },
  {
   "cell_type": "markdown",
   "metadata": {
    "id": "ufH0zUgPhHNK"
   },
   "source": [
    "`With the 'homepage' and 'tagline' columns containing the pradominate amount of missing values (64.4% & 17.6%), they were deemed innacurate to work with and therefore dropped from the data set.`"
   ]
  },
  {
   "cell_type": "code",
   "execution_count": 59,
   "metadata": {
    "colab": {
     "base_uri": "https://localhost:8080/"
    },
    "executionInfo": {
     "elapsed": 206,
     "status": "ok",
     "timestamp": 1732626401008,
     "user": {
      "displayName": "BRTechArt -Ben Russell",
      "userId": "07222198556679235222"
     },
     "user_tz": 0
    },
    "id": "rGq3y648j0y5",
    "outputId": "032acf72-7455-435b-83a7-76a38b0b030e"
   },
   "outputs": [],
   "source": [
    "# Drop 'homepage' column\n",
    "\n",
    "try:\n",
    "  df.drop(columns=['homepage', 'tagline'], inplace = True)\n",
    "except:\n",
    "  print('Columns has already been dropped')"
   ]
  },
  {
   "cell_type": "code",
   "execution_count": 60,
   "metadata": {
    "colab": {
     "base_uri": "https://localhost:8080/",
     "height": 684
    },
    "executionInfo": {
     "elapsed": 200,
     "status": "ok",
     "timestamp": 1732626358544,
     "user": {
      "displayName": "BRTechArt -Ben Russell",
      "userId": "07222198556679235222"
     },
     "user_tz": 0
    },
    "id": "OkC-QnBOk0Mp",
    "outputId": "3ec90468-9a59-4ecb-e443-ddecc01b4150"
   },
   "outputs": [
    {
     "name": "stdout",
     "output_type": "stream",
     "text": [
      "Total count of missing values =  6 \n",
      "\n"
     ]
    },
    {
     "data": {
      "text/plain": [
       "budget                  0\n",
       "genres                  0\n",
       "id                      0\n",
       "keywords                0\n",
       "original_language       0\n",
       "original_title          0\n",
       "overview                3\n",
       "popularity              0\n",
       "production_companies    0\n",
       "production_countries    0\n",
       "release_date            1\n",
       "revenue                 0\n",
       "runtime                 2\n",
       "spoken_languages        0\n",
       "status                  0\n",
       "title                   0\n",
       "vote_average            0\n",
       "vote_count              0\n",
       "dtype: int64"
      ]
     },
     "execution_count": 60,
     "metadata": {},
     "output_type": "execute_result"
    }
   ],
   "source": [
    "# Count missing values after drop\n",
    "\n",
    "print(\"Total count of missing values = \", df.isnull().sum().sum(), \"\\n\")\n",
    "df.isnull().sum()"
   ]
  },
  {
   "cell_type": "markdown",
   "metadata": {
    "id": "3pcCp6taH9Ij"
   },
   "source": [
    "### 1.0.1 | Anomalies"
   ]
  },
  {
   "cell_type": "code",
   "execution_count": 61,
   "metadata": {
    "colab": {
     "base_uri": "https://localhost:8080/",
     "height": 302
    },
    "executionInfo": {
     "elapsed": 202,
     "status": "ok",
     "timestamp": 1732626344853,
     "user": {
      "displayName": "BRTechArt -Ben Russell",
      "userId": "07222198556679235222"
     },
     "user_tz": 0
    },
    "id": "y2xwtVsmIFI0",
    "outputId": "30d757de-2691-45cf-d00b-60a73a6e211c"
   },
   "outputs": [
    {
     "data": {
      "text/html": [
       "<div>\n",
       "<style scoped>\n",
       "    .dataframe tbody tr th:only-of-type {\n",
       "        vertical-align: middle;\n",
       "    }\n",
       "\n",
       "    .dataframe tbody tr th {\n",
       "        vertical-align: top;\n",
       "    }\n",
       "\n",
       "    .dataframe thead th {\n",
       "        text-align: right;\n",
       "    }\n",
       "</style>\n",
       "<table border=\"1\" class=\"dataframe\">\n",
       "  <thead>\n",
       "    <tr style=\"text-align: right;\">\n",
       "      <th></th>\n",
       "      <th>budget</th>\n",
       "      <th>genres</th>\n",
       "      <th>id</th>\n",
       "      <th>keywords</th>\n",
       "      <th>original_language</th>\n",
       "      <th>original_title</th>\n",
       "      <th>overview</th>\n",
       "      <th>popularity</th>\n",
       "      <th>production_companies</th>\n",
       "      <th>production_countries</th>\n",
       "      <th>release_date</th>\n",
       "      <th>revenue</th>\n",
       "      <th>runtime</th>\n",
       "      <th>spoken_languages</th>\n",
       "      <th>status</th>\n",
       "      <th>title</th>\n",
       "      <th>vote_average</th>\n",
       "      <th>vote_count</th>\n",
       "    </tr>\n",
       "  </thead>\n",
       "  <tbody>\n",
       "    <tr>\n",
       "      <th>2656</th>\n",
       "      <td>15000000</td>\n",
       "      <td>[{\"id\": 18, \"name\": \"Drama\"}]</td>\n",
       "      <td>370980</td>\n",
       "      <td>[{\"id\": 717, \"name\": \"pope\"}, {\"id\": 5565, \"na...</td>\n",
       "      <td>it</td>\n",
       "      <td>Chiamatemi Francesco - Il Papa della gente</td>\n",
       "      <td>NaN</td>\n",
       "      <td>0.738646</td>\n",
       "      <td>[{\"name\": \"Taodue Film\", \"id\": 45724}]</td>\n",
       "      <td>[{\"iso_3166_1\": \"IT\", \"name\": \"Italy\"}]</td>\n",
       "      <td>2015-12-03</td>\n",
       "      <td>0</td>\n",
       "      <td>NaN</td>\n",
       "      <td>[{\"iso_639_1\": \"es\", \"name\": \"Espa\\u00f1ol\"}]</td>\n",
       "      <td>Released</td>\n",
       "      <td>Chiamatemi Francesco - Il Papa della gente</td>\n",
       "      <td>7.3</td>\n",
       "      <td>12</td>\n",
       "    </tr>\n",
       "    <tr>\n",
       "      <th>4140</th>\n",
       "      <td>2</td>\n",
       "      <td>[{\"id\": 99, \"name\": \"Documentary\"}]</td>\n",
       "      <td>459488</td>\n",
       "      <td>[{\"id\": 6027, \"name\": \"music\"}, {\"id\": 225822,...</td>\n",
       "      <td>en</td>\n",
       "      <td>To Be Frank, Sinatra at 100</td>\n",
       "      <td>NaN</td>\n",
       "      <td>0.050625</td>\n",
       "      <td>[{\"name\": \"Eyeline Entertainment\", \"id\": 60343}]</td>\n",
       "      <td>[{\"iso_3166_1\": \"GB\", \"name\": \"United Kingdom\"}]</td>\n",
       "      <td>2015-12-12</td>\n",
       "      <td>0</td>\n",
       "      <td>NaN</td>\n",
       "      <td>[]</td>\n",
       "      <td>Released</td>\n",
       "      <td>To Be Frank, Sinatra at 100</td>\n",
       "      <td>0.0</td>\n",
       "      <td>0</td>\n",
       "    </tr>\n",
       "    <tr>\n",
       "      <th>4431</th>\n",
       "      <td>913000</td>\n",
       "      <td>[{\"id\": 99, \"name\": \"Documentary\"}]</td>\n",
       "      <td>292539</td>\n",
       "      <td>[]</td>\n",
       "      <td>de</td>\n",
       "      <td>Food Chains</td>\n",
       "      <td>NaN</td>\n",
       "      <td>0.795698</td>\n",
       "      <td>[]</td>\n",
       "      <td>[]</td>\n",
       "      <td>2014-04-26</td>\n",
       "      <td>0</td>\n",
       "      <td>83.0</td>\n",
       "      <td>[{\"iso_639_1\": \"en\", \"name\": \"English\"}]</td>\n",
       "      <td>Released</td>\n",
       "      <td>Food Chains</td>\n",
       "      <td>7.4</td>\n",
       "      <td>8</td>\n",
       "    </tr>\n",
       "  </tbody>\n",
       "</table>\n",
       "</div>"
      ],
      "text/plain": [
       "        budget                               genres      id  \\\n",
       "2656  15000000        [{\"id\": 18, \"name\": \"Drama\"}]  370980   \n",
       "4140         2  [{\"id\": 99, \"name\": \"Documentary\"}]  459488   \n",
       "4431    913000  [{\"id\": 99, \"name\": \"Documentary\"}]  292539   \n",
       "\n",
       "                                               keywords original_language  \\\n",
       "2656  [{\"id\": 717, \"name\": \"pope\"}, {\"id\": 5565, \"na...                it   \n",
       "4140  [{\"id\": 6027, \"name\": \"music\"}, {\"id\": 225822,...                en   \n",
       "4431                                                 []                de   \n",
       "\n",
       "                                  original_title overview  popularity  \\\n",
       "2656  Chiamatemi Francesco - Il Papa della gente      NaN    0.738646   \n",
       "4140                 To Be Frank, Sinatra at 100      NaN    0.050625   \n",
       "4431                                 Food Chains      NaN    0.795698   \n",
       "\n",
       "                                  production_companies  \\\n",
       "2656            [{\"name\": \"Taodue Film\", \"id\": 45724}]   \n",
       "4140  [{\"name\": \"Eyeline Entertainment\", \"id\": 60343}]   \n",
       "4431                                                []   \n",
       "\n",
       "                                  production_countries release_date  revenue  \\\n",
       "2656           [{\"iso_3166_1\": \"IT\", \"name\": \"Italy\"}]   2015-12-03        0   \n",
       "4140  [{\"iso_3166_1\": \"GB\", \"name\": \"United Kingdom\"}]   2015-12-12        0   \n",
       "4431                                                []   2014-04-26        0   \n",
       "\n",
       "      runtime                               spoken_languages    status  \\\n",
       "2656      NaN  [{\"iso_639_1\": \"es\", \"name\": \"Espa\\u00f1ol\"}]  Released   \n",
       "4140      NaN                                             []  Released   \n",
       "4431     83.0       [{\"iso_639_1\": \"en\", \"name\": \"English\"}]  Released   \n",
       "\n",
       "                                           title  vote_average  vote_count  \n",
       "2656  Chiamatemi Francesco - Il Papa della gente           7.3          12  \n",
       "4140                 To Be Frank, Sinatra at 100           0.0           0  \n",
       "4431                                 Food Chains           7.4           8  "
      ]
     },
     "execution_count": 61,
     "metadata": {},
     "output_type": "execute_result"
    }
   ],
   "source": [
    "# 'overview' anomalies\n",
    "\n",
    "df.loc[df['overview'].isnull()]"
   ]
  },
  {
   "cell_type": "code",
   "execution_count": 62,
   "metadata": {
    "colab": {
     "base_uri": "https://localhost:8080/",
     "height": 205
    },
    "executionInfo": {
     "elapsed": 331,
     "status": "ok",
     "timestamp": 1732626268090,
     "user": {
      "displayName": "BRTechArt -Ben Russell",
      "userId": "07222198556679235222"
     },
     "user_tz": 0
    },
    "id": "e2BVAJTwJoRm",
    "outputId": "c43c7e6c-8e19-40c1-b6a4-da5be6139cb8"
   },
   "outputs": [
    {
     "data": {
      "text/html": [
       "<div>\n",
       "<style scoped>\n",
       "    .dataframe tbody tr th:only-of-type {\n",
       "        vertical-align: middle;\n",
       "    }\n",
       "\n",
       "    .dataframe tbody tr th {\n",
       "        vertical-align: top;\n",
       "    }\n",
       "\n",
       "    .dataframe thead th {\n",
       "        text-align: right;\n",
       "    }\n",
       "</style>\n",
       "<table border=\"1\" class=\"dataframe\">\n",
       "  <thead>\n",
       "    <tr style=\"text-align: right;\">\n",
       "      <th></th>\n",
       "      <th>budget</th>\n",
       "      <th>genres</th>\n",
       "      <th>id</th>\n",
       "      <th>keywords</th>\n",
       "      <th>original_language</th>\n",
       "      <th>original_title</th>\n",
       "      <th>overview</th>\n",
       "      <th>popularity</th>\n",
       "      <th>production_companies</th>\n",
       "      <th>production_countries</th>\n",
       "      <th>release_date</th>\n",
       "      <th>revenue</th>\n",
       "      <th>runtime</th>\n",
       "      <th>spoken_languages</th>\n",
       "      <th>status</th>\n",
       "      <th>title</th>\n",
       "      <th>vote_average</th>\n",
       "      <th>vote_count</th>\n",
       "    </tr>\n",
       "  </thead>\n",
       "  <tbody>\n",
       "    <tr>\n",
       "      <th>4553</th>\n",
       "      <td>0</td>\n",
       "      <td>[]</td>\n",
       "      <td>380097</td>\n",
       "      <td>[]</td>\n",
       "      <td>en</td>\n",
       "      <td>America Is Still the Place</td>\n",
       "      <td>1971 post civil rights San Francisco seemed li...</td>\n",
       "      <td>0.0</td>\n",
       "      <td>[]</td>\n",
       "      <td>[]</td>\n",
       "      <td>NaN</td>\n",
       "      <td>0</td>\n",
       "      <td>0.0</td>\n",
       "      <td>[]</td>\n",
       "      <td>Released</td>\n",
       "      <td>America Is Still the Place</td>\n",
       "      <td>0.0</td>\n",
       "      <td>0</td>\n",
       "    </tr>\n",
       "  </tbody>\n",
       "</table>\n",
       "</div>"
      ],
      "text/plain": [
       "      budget genres      id keywords original_language  \\\n",
       "4553       0     []  380097       []                en   \n",
       "\n",
       "                  original_title  \\\n",
       "4553  America Is Still the Place   \n",
       "\n",
       "                                               overview  popularity  \\\n",
       "4553  1971 post civil rights San Francisco seemed li...         0.0   \n",
       "\n",
       "     production_companies production_countries release_date  revenue  runtime  \\\n",
       "4553                   []                   []          NaN        0      0.0   \n",
       "\n",
       "     spoken_languages    status                       title  vote_average  \\\n",
       "4553               []  Released  America Is Still the Place           0.0   \n",
       "\n",
       "      vote_count  \n",
       "4553           0  "
      ]
     },
     "execution_count": 62,
     "metadata": {},
     "output_type": "execute_result"
    }
   ],
   "source": [
    "# 'release_date' anomalies\n",
    "\n",
    "df.loc[df['release_date'].isnull()]"
   ]
  },
  {
   "cell_type": "code",
   "execution_count": 63,
   "metadata": {
    "colab": {
     "base_uri": "https://localhost:8080/",
     "height": 323
    },
    "executionInfo": {
     "elapsed": 8,
     "status": "ok",
     "timestamp": 1732626268090,
     "user": {
      "displayName": "BRTechArt -Ben Russell",
      "userId": "07222198556679235222"
     },
     "user_tz": 0
    },
    "id": "84kHFxiGJzmK",
    "outputId": "60a51d21-6932-478a-e28d-25b1bd0c4e1e"
   },
   "outputs": [
    {
     "data": {
      "text/html": [
       "<div>\n",
       "<style scoped>\n",
       "    .dataframe tbody tr th:only-of-type {\n",
       "        vertical-align: middle;\n",
       "    }\n",
       "\n",
       "    .dataframe tbody tr th {\n",
       "        vertical-align: top;\n",
       "    }\n",
       "\n",
       "    .dataframe thead th {\n",
       "        text-align: right;\n",
       "    }\n",
       "</style>\n",
       "<table border=\"1\" class=\"dataframe\">\n",
       "  <thead>\n",
       "    <tr style=\"text-align: right;\">\n",
       "      <th></th>\n",
       "      <th>budget</th>\n",
       "      <th>genres</th>\n",
       "      <th>id</th>\n",
       "      <th>keywords</th>\n",
       "      <th>original_language</th>\n",
       "      <th>original_title</th>\n",
       "      <th>overview</th>\n",
       "      <th>popularity</th>\n",
       "      <th>production_companies</th>\n",
       "      <th>production_countries</th>\n",
       "      <th>release_date</th>\n",
       "      <th>revenue</th>\n",
       "      <th>runtime</th>\n",
       "      <th>spoken_languages</th>\n",
       "      <th>status</th>\n",
       "      <th>title</th>\n",
       "      <th>vote_average</th>\n",
       "      <th>vote_count</th>\n",
       "    </tr>\n",
       "  </thead>\n",
       "  <tbody>\n",
       "    <tr>\n",
       "      <th>2656</th>\n",
       "      <td>15000000</td>\n",
       "      <td>[{\"id\": 18, \"name\": \"Drama\"}]</td>\n",
       "      <td>370980</td>\n",
       "      <td>[{\"id\": 717, \"name\": \"pope\"}, {\"id\": 5565, \"na...</td>\n",
       "      <td>it</td>\n",
       "      <td>Chiamatemi Francesco - Il Papa della gente</td>\n",
       "      <td>NaN</td>\n",
       "      <td>0.738646</td>\n",
       "      <td>[{\"name\": \"Taodue Film\", \"id\": 45724}]</td>\n",
       "      <td>[{\"iso_3166_1\": \"IT\", \"name\": \"Italy\"}]</td>\n",
       "      <td>2015-12-03</td>\n",
       "      <td>0</td>\n",
       "      <td>NaN</td>\n",
       "      <td>[{\"iso_639_1\": \"es\", \"name\": \"Espa\\u00f1ol\"}]</td>\n",
       "      <td>Released</td>\n",
       "      <td>Chiamatemi Francesco - Il Papa della gente</td>\n",
       "      <td>7.3</td>\n",
       "      <td>12</td>\n",
       "    </tr>\n",
       "    <tr>\n",
       "      <th>4140</th>\n",
       "      <td>2</td>\n",
       "      <td>[{\"id\": 99, \"name\": \"Documentary\"}]</td>\n",
       "      <td>459488</td>\n",
       "      <td>[{\"id\": 6027, \"name\": \"music\"}, {\"id\": 225822,...</td>\n",
       "      <td>en</td>\n",
       "      <td>To Be Frank, Sinatra at 100</td>\n",
       "      <td>NaN</td>\n",
       "      <td>0.050625</td>\n",
       "      <td>[{\"name\": \"Eyeline Entertainment\", \"id\": 60343}]</td>\n",
       "      <td>[{\"iso_3166_1\": \"GB\", \"name\": \"United Kingdom\"}]</td>\n",
       "      <td>2015-12-12</td>\n",
       "      <td>0</td>\n",
       "      <td>NaN</td>\n",
       "      <td>[]</td>\n",
       "      <td>Released</td>\n",
       "      <td>To Be Frank, Sinatra at 100</td>\n",
       "      <td>0.0</td>\n",
       "      <td>0</td>\n",
       "    </tr>\n",
       "  </tbody>\n",
       "</table>\n",
       "</div>"
      ],
      "text/plain": [
       "        budget                               genres      id  \\\n",
       "2656  15000000        [{\"id\": 18, \"name\": \"Drama\"}]  370980   \n",
       "4140         2  [{\"id\": 99, \"name\": \"Documentary\"}]  459488   \n",
       "\n",
       "                                               keywords original_language  \\\n",
       "2656  [{\"id\": 717, \"name\": \"pope\"}, {\"id\": 5565, \"na...                it   \n",
       "4140  [{\"id\": 6027, \"name\": \"music\"}, {\"id\": 225822,...                en   \n",
       "\n",
       "                                  original_title overview  popularity  \\\n",
       "2656  Chiamatemi Francesco - Il Papa della gente      NaN    0.738646   \n",
       "4140                 To Be Frank, Sinatra at 100      NaN    0.050625   \n",
       "\n",
       "                                  production_companies  \\\n",
       "2656            [{\"name\": \"Taodue Film\", \"id\": 45724}]   \n",
       "4140  [{\"name\": \"Eyeline Entertainment\", \"id\": 60343}]   \n",
       "\n",
       "                                  production_countries release_date  revenue  \\\n",
       "2656           [{\"iso_3166_1\": \"IT\", \"name\": \"Italy\"}]   2015-12-03        0   \n",
       "4140  [{\"iso_3166_1\": \"GB\", \"name\": \"United Kingdom\"}]   2015-12-12        0   \n",
       "\n",
       "      runtime                               spoken_languages    status  \\\n",
       "2656      NaN  [{\"iso_639_1\": \"es\", \"name\": \"Espa\\u00f1ol\"}]  Released   \n",
       "4140      NaN                                             []  Released   \n",
       "\n",
       "                                           title  vote_average  vote_count  \n",
       "2656  Chiamatemi Francesco - Il Papa della gente           7.3          12  \n",
       "4140                 To Be Frank, Sinatra at 100           0.0           0  "
      ]
     },
     "execution_count": 63,
     "metadata": {},
     "output_type": "execute_result"
    }
   ],
   "source": [
    "# 'runtime' anomalies\n",
    "\n",
    "df.loc[df['runtime'].isnull()]"
   ]
  },
  {
   "cell_type": "markdown",
   "metadata": {
    "id": "hoQj2t76NpaC"
   },
   "source": [
    "`From the above anomaly detection, we can identify the following record culprits:`"
   ]
  },
  {
   "cell_type": "code",
   "execution_count": 64,
   "metadata": {
    "colab": {
     "base_uri": "https://localhost:8080/",
     "height": 524
    },
    "executionInfo": {
     "elapsed": 7,
     "status": "ok",
     "timestamp": 1732626268090,
     "user": {
      "displayName": "BRTechArt -Ben Russell",
      "userId": "07222198556679235222"
     },
     "user_tz": 0
    },
    "id": "KAhfFtDKM42o",
    "outputId": "22d40a35-c476-40a2-c856-306ebb187dbe"
   },
   "outputs": [
    {
     "data": {
      "text/html": [
       "<div>\n",
       "<style scoped>\n",
       "    .dataframe tbody tr th:only-of-type {\n",
       "        vertical-align: middle;\n",
       "    }\n",
       "\n",
       "    .dataframe tbody tr th {\n",
       "        vertical-align: top;\n",
       "    }\n",
       "\n",
       "    .dataframe thead th {\n",
       "        text-align: right;\n",
       "    }\n",
       "</style>\n",
       "<table border=\"1\" class=\"dataframe\">\n",
       "  <thead>\n",
       "    <tr style=\"text-align: right;\">\n",
       "      <th></th>\n",
       "      <th>budget</th>\n",
       "      <th>genres</th>\n",
       "      <th>id</th>\n",
       "      <th>keywords</th>\n",
       "      <th>original_language</th>\n",
       "      <th>original_title</th>\n",
       "      <th>overview</th>\n",
       "      <th>popularity</th>\n",
       "      <th>production_companies</th>\n",
       "      <th>production_countries</th>\n",
       "      <th>release_date</th>\n",
       "      <th>revenue</th>\n",
       "      <th>runtime</th>\n",
       "      <th>spoken_languages</th>\n",
       "      <th>status</th>\n",
       "      <th>title</th>\n",
       "      <th>vote_average</th>\n",
       "      <th>vote_count</th>\n",
       "    </tr>\n",
       "  </thead>\n",
       "  <tbody>\n",
       "    <tr>\n",
       "      <th>2656</th>\n",
       "      <td>15000000</td>\n",
       "      <td>[{\"id\": 18, \"name\": \"Drama\"}]</td>\n",
       "      <td>370980</td>\n",
       "      <td>[{\"id\": 717, \"name\": \"pope\"}, {\"id\": 5565, \"na...</td>\n",
       "      <td>it</td>\n",
       "      <td>Chiamatemi Francesco - Il Papa della gente</td>\n",
       "      <td>NaN</td>\n",
       "      <td>0.738646</td>\n",
       "      <td>[{\"name\": \"Taodue Film\", \"id\": 45724}]</td>\n",
       "      <td>[{\"iso_3166_1\": \"IT\", \"name\": \"Italy\"}]</td>\n",
       "      <td>2015-12-03</td>\n",
       "      <td>0</td>\n",
       "      <td>NaN</td>\n",
       "      <td>[{\"iso_639_1\": \"es\", \"name\": \"Espa\\u00f1ol\"}]</td>\n",
       "      <td>Released</td>\n",
       "      <td>Chiamatemi Francesco - Il Papa della gente</td>\n",
       "      <td>7.3</td>\n",
       "      <td>12</td>\n",
       "    </tr>\n",
       "    <tr>\n",
       "      <th>4140</th>\n",
       "      <td>2</td>\n",
       "      <td>[{\"id\": 99, \"name\": \"Documentary\"}]</td>\n",
       "      <td>459488</td>\n",
       "      <td>[{\"id\": 6027, \"name\": \"music\"}, {\"id\": 225822,...</td>\n",
       "      <td>en</td>\n",
       "      <td>To Be Frank, Sinatra at 100</td>\n",
       "      <td>NaN</td>\n",
       "      <td>0.050625</td>\n",
       "      <td>[{\"name\": \"Eyeline Entertainment\", \"id\": 60343}]</td>\n",
       "      <td>[{\"iso_3166_1\": \"GB\", \"name\": \"United Kingdom\"}]</td>\n",
       "      <td>2015-12-12</td>\n",
       "      <td>0</td>\n",
       "      <td>NaN</td>\n",
       "      <td>[]</td>\n",
       "      <td>Released</td>\n",
       "      <td>To Be Frank, Sinatra at 100</td>\n",
       "      <td>0.0</td>\n",
       "      <td>0</td>\n",
       "    </tr>\n",
       "    <tr>\n",
       "      <th>4431</th>\n",
       "      <td>913000</td>\n",
       "      <td>[{\"id\": 99, \"name\": \"Documentary\"}]</td>\n",
       "      <td>292539</td>\n",
       "      <td>[]</td>\n",
       "      <td>de</td>\n",
       "      <td>Food Chains</td>\n",
       "      <td>NaN</td>\n",
       "      <td>0.795698</td>\n",
       "      <td>[]</td>\n",
       "      <td>[]</td>\n",
       "      <td>2014-04-26</td>\n",
       "      <td>0</td>\n",
       "      <td>83.0</td>\n",
       "      <td>[{\"iso_639_1\": \"en\", \"name\": \"English\"}]</td>\n",
       "      <td>Released</td>\n",
       "      <td>Food Chains</td>\n",
       "      <td>7.4</td>\n",
       "      <td>8</td>\n",
       "    </tr>\n",
       "    <tr>\n",
       "      <th>4553</th>\n",
       "      <td>0</td>\n",
       "      <td>[]</td>\n",
       "      <td>380097</td>\n",
       "      <td>[]</td>\n",
       "      <td>en</td>\n",
       "      <td>America Is Still the Place</td>\n",
       "      <td>1971 post civil rights San Francisco seemed li...</td>\n",
       "      <td>0.000000</td>\n",
       "      <td>[]</td>\n",
       "      <td>[]</td>\n",
       "      <td>NaN</td>\n",
       "      <td>0</td>\n",
       "      <td>0.0</td>\n",
       "      <td>[]</td>\n",
       "      <td>Released</td>\n",
       "      <td>America Is Still the Place</td>\n",
       "      <td>0.0</td>\n",
       "      <td>0</td>\n",
       "    </tr>\n",
       "  </tbody>\n",
       "</table>\n",
       "</div>"
      ],
      "text/plain": [
       "        budget                               genres      id  \\\n",
       "2656  15000000        [{\"id\": 18, \"name\": \"Drama\"}]  370980   \n",
       "4140         2  [{\"id\": 99, \"name\": \"Documentary\"}]  459488   \n",
       "4431    913000  [{\"id\": 99, \"name\": \"Documentary\"}]  292539   \n",
       "4553         0                                   []  380097   \n",
       "\n",
       "                                               keywords original_language  \\\n",
       "2656  [{\"id\": 717, \"name\": \"pope\"}, {\"id\": 5565, \"na...                it   \n",
       "4140  [{\"id\": 6027, \"name\": \"music\"}, {\"id\": 225822,...                en   \n",
       "4431                                                 []                de   \n",
       "4553                                                 []                en   \n",
       "\n",
       "                                  original_title  \\\n",
       "2656  Chiamatemi Francesco - Il Papa della gente   \n",
       "4140                 To Be Frank, Sinatra at 100   \n",
       "4431                                 Food Chains   \n",
       "4553                  America Is Still the Place   \n",
       "\n",
       "                                               overview  popularity  \\\n",
       "2656                                                NaN    0.738646   \n",
       "4140                                                NaN    0.050625   \n",
       "4431                                                NaN    0.795698   \n",
       "4553  1971 post civil rights San Francisco seemed li...    0.000000   \n",
       "\n",
       "                                  production_companies  \\\n",
       "2656            [{\"name\": \"Taodue Film\", \"id\": 45724}]   \n",
       "4140  [{\"name\": \"Eyeline Entertainment\", \"id\": 60343}]   \n",
       "4431                                                []   \n",
       "4553                                                []   \n",
       "\n",
       "                                  production_countries release_date  revenue  \\\n",
       "2656           [{\"iso_3166_1\": \"IT\", \"name\": \"Italy\"}]   2015-12-03        0   \n",
       "4140  [{\"iso_3166_1\": \"GB\", \"name\": \"United Kingdom\"}]   2015-12-12        0   \n",
       "4431                                                []   2014-04-26        0   \n",
       "4553                                                []          NaN        0   \n",
       "\n",
       "      runtime                               spoken_languages    status  \\\n",
       "2656      NaN  [{\"iso_639_1\": \"es\", \"name\": \"Espa\\u00f1ol\"}]  Released   \n",
       "4140      NaN                                             []  Released   \n",
       "4431     83.0       [{\"iso_639_1\": \"en\", \"name\": \"English\"}]  Released   \n",
       "4553      0.0                                             []  Released   \n",
       "\n",
       "                                           title  vote_average  vote_count  \n",
       "2656  Chiamatemi Francesco - Il Papa della gente           7.3          12  \n",
       "4140                 To Be Frank, Sinatra at 100           0.0           0  \n",
       "4431                                 Food Chains           7.4           8  \n",
       "4553                  America Is Still the Place           0.0           0  "
      ]
     },
     "execution_count": 64,
     "metadata": {},
     "output_type": "execute_result"
    }
   ],
   "source": [
    "# record culprits review\n",
    "\n",
    "df.iloc[[2656, 4140, 4431, 4553]]"
   ]
  },
  {
   "cell_type": "markdown",
   "metadata": {
    "id": "kfKQEtlP8ksg"
   },
   "source": [
    "## 1.1 | Zero Values"
   ]
  },
  {
   "cell_type": "markdown",
   "metadata": {
    "id": "4CrO8DU-76r3"
   },
   "source": [
    "`From section '0.2.3', we can identify there are zero values present, which suggests that for certain records, the data entry is inaccurate.`"
   ]
  },
  {
   "cell_type": "code",
   "execution_count": 65,
   "metadata": {
    "colab": {
     "base_uri": "https://localhost:8080/"
    },
    "executionInfo": {
     "elapsed": 7,
     "status": "ok",
     "timestamp": 1732626268090,
     "user": {
      "displayName": "BRTechArt -Ben Russell",
      "userId": "07222198556679235222"
     },
     "user_tz": 0
    },
    "id": "cFi645Gh_Puk",
    "outputId": "cda036fb-2004-4bf1-ee7a-afca2c3f950d"
   },
   "outputs": [
    {
     "name": "stdout",
     "output_type": "stream",
     "text": [
      "Total count of zero values =  2625 \n",
      "\n",
      "budget                  1037\n",
      "genres                     0\n",
      "id                         0\n",
      "keywords                   0\n",
      "original_language          0\n",
      "original_title             0\n",
      "overview                   0\n",
      "popularity                 1\n",
      "production_companies       0\n",
      "production_countries       0\n",
      "release_date               0\n",
      "revenue                 1427\n",
      "runtime                   35\n",
      "spoken_languages           0\n",
      "status                     0\n",
      "title                      0\n",
      "vote_average              63\n",
      "vote_count                62\n",
      "dtype: int64\n"
     ]
    }
   ],
   "source": [
    "# Count zero values\n",
    "\n",
    "zero_counts = (df== 0).sum()\n",
    "print(\"Total count of zero values = \", ((df== 0).sum().sum()), \"\\n\")\n",
    "print(zero_counts)"
   ]
  },
  {
   "cell_type": "markdown",
   "metadata": {
    "id": "q0t6eDiDo5ci"
   },
   "source": [
    "`These zero values can be deemed as null in their own right and so should be treated/converted as such.`"
   ]
  },
  {
   "cell_type": "code",
   "execution_count": 66,
   "metadata": {
    "executionInfo": {
     "elapsed": 6,
     "status": "ok",
     "timestamp": 1732626268090,
     "user": {
      "displayName": "BRTechArt -Ben Russell",
      "userId": "07222198556679235222"
     },
     "user_tz": 0
    },
    "id": "r9SZEeFvpK3I"
   },
   "outputs": [],
   "source": [
    "# Replace 0 with NaN\n",
    "\n",
    "df.replace(0, np.nan, inplace=True)"
   ]
  },
  {
   "cell_type": "code",
   "execution_count": 67,
   "metadata": {
    "colab": {
     "base_uri": "https://localhost:8080/"
    },
    "executionInfo": {
     "elapsed": 6,
     "status": "ok",
     "timestamp": 1732626268090,
     "user": {
      "displayName": "BRTechArt -Ben Russell",
      "userId": "07222198556679235222"
     },
     "user_tz": 0
    },
    "id": "10rWA8Vdu8BZ",
    "outputId": "cbf869a8-8b57-4d23-f300-ad26aef8b1d4"
   },
   "outputs": [
    {
     "name": "stdout",
     "output_type": "stream",
     "text": [
      "Total count of zero values =  0 \n",
      "\n",
      "budget                  0\n",
      "genres                  0\n",
      "id                      0\n",
      "keywords                0\n",
      "original_language       0\n",
      "original_title          0\n",
      "overview                0\n",
      "popularity              0\n",
      "production_companies    0\n",
      "production_countries    0\n",
      "release_date            0\n",
      "revenue                 0\n",
      "runtime                 0\n",
      "spoken_languages        0\n",
      "status                  0\n",
      "title                   0\n",
      "vote_average            0\n",
      "vote_count              0\n",
      "dtype: int64\n"
     ]
    }
   ],
   "source": [
    "# Count zero values after replace\n",
    "\n",
    "zero_counts = (df== 0).sum()\n",
    "print(\"Total count of zero values = \", ((df== 0).sum().sum()), \"\\n\")\n",
    "print(zero_counts)"
   ]
  },
  {
   "cell_type": "code",
   "execution_count": 68,
   "metadata": {
    "colab": {
     "base_uri": "https://localhost:8080/",
     "height": 684
    },
    "executionInfo": {
     "elapsed": 5,
     "status": "ok",
     "timestamp": 1732626268090,
     "user": {
      "displayName": "BRTechArt -Ben Russell",
      "userId": "07222198556679235222"
     },
     "user_tz": 0
    },
    "id": "PwmU27itvBCg",
    "outputId": "2e66e7c2-db71-40d4-becc-82243df2bc4e"
   },
   "outputs": [
    {
     "name": "stdout",
     "output_type": "stream",
     "text": [
      "Total count of missing values =  2631 \n",
      "\n"
     ]
    },
    {
     "data": {
      "text/plain": [
       "budget                  1037\n",
       "genres                     0\n",
       "id                         0\n",
       "keywords                   0\n",
       "original_language          0\n",
       "original_title             0\n",
       "overview                   3\n",
       "popularity                 1\n",
       "production_companies       0\n",
       "production_countries       0\n",
       "release_date               1\n",
       "revenue                 1427\n",
       "runtime                   37\n",
       "spoken_languages           0\n",
       "status                     0\n",
       "title                      0\n",
       "vote_average              63\n",
       "vote_count                62\n",
       "dtype: int64"
      ]
     },
     "execution_count": 68,
     "metadata": {},
     "output_type": "execute_result"
    }
   ],
   "source": [
    "# Count null values after zero replace\n",
    "\n",
    "print(\"Total count of missing values = \", df.isnull().sum().sum(), \"\\n\")\n",
    "df.isnull().sum()"
   ]
  },
  {
   "cell_type": "markdown",
   "metadata": {
    "id": "MVHX-HIZvl5E"
   },
   "source": [
    "### 1.1.1 | Fill New Null Values"
   ]
  },
  {
   "cell_type": "markdown",
   "metadata": {
    "id": "wcmpTqwMwMT_"
   },
   "source": [
    "`With the predominate columns containing null values being numerical, we will look to fill them with a central tendency value. This will be '.median' for financial data such as 'budget' and 'revenue' and '.mean' for all others.`"
   ]
  },
  {
   "cell_type": "code",
   "execution_count": 69,
   "metadata": {
    "executionInfo": {
     "elapsed": 5,
     "status": "ok",
     "timestamp": 1732626268091,
     "user": {
      "displayName": "BRTechArt -Ben Russell",
      "userId": "07222198556679235222"
     },
     "user_tz": 0
    },
    "id": "KlGbRfTDxt4V"
   },
   "outputs": [],
   "source": [
    "# Fill nulls with a central tendency value\n",
    "\n",
    "df['budget'] = df['budget'].fillna(df['budget'].median())\n",
    "df['revenue'] = df['revenue'].fillna(df['revenue'].median())\n",
    "df['popularity'] = df['popularity'].fillna(df['popularity'].mean())\n",
    "df['runtime'] = df['runtime'].fillna(df['runtime'].mean())\n",
    "df['vote_average'] = df['vote_average'].fillna(df['vote_average'].mean())\n",
    "df['vote_count'] = df['vote_count'].fillna(df['vote_count'].mean())"
   ]
  },
  {
   "cell_type": "code",
   "execution_count": 70,
   "metadata": {
    "colab": {
     "base_uri": "https://localhost:8080/",
     "height": 684
    },
    "executionInfo": {
     "elapsed": 221,
     "status": "ok",
     "timestamp": 1732626268307,
     "user": {
      "displayName": "BRTechArt -Ben Russell",
      "userId": "07222198556679235222"
     },
     "user_tz": 0
    },
    "id": "vVLJmmuizwOI",
    "outputId": "edaf4237-2617-4d25-96c8-a4887a238526"
   },
   "outputs": [
    {
     "name": "stdout",
     "output_type": "stream",
     "text": [
      "Total count of missing values =  4 \n",
      "\n"
     ]
    },
    {
     "data": {
      "text/plain": [
       "budget                  0\n",
       "genres                  0\n",
       "id                      0\n",
       "keywords                0\n",
       "original_language       0\n",
       "original_title          0\n",
       "overview                3\n",
       "popularity              0\n",
       "production_companies    0\n",
       "production_countries    0\n",
       "release_date            1\n",
       "revenue                 0\n",
       "runtime                 0\n",
       "spoken_languages        0\n",
       "status                  0\n",
       "title                   0\n",
       "vote_average            0\n",
       "vote_count              0\n",
       "dtype: int64"
      ]
     },
     "execution_count": 70,
     "metadata": {},
     "output_type": "execute_result"
    }
   ],
   "source": [
    "# Count null values after central tendency value replace\n",
    "\n",
    "print(\"Total count of missing values = \", df.isnull().sum().sum(), \"\\n\")\n",
    "df.isnull().sum()"
   ]
  },
  {
   "cell_type": "markdown",
   "metadata": {
    "id": "Zg0RXX2v26ei"
   },
   "source": [
    "`Whilst there are still missing values within the dataset, these individual records would have minimal impact in the statistical data gathered from this dataset. Therefore, they are ignored.`\n",
    "\n"
   ]
  },
  {
   "cell_type": "markdown",
   "metadata": {
    "id": "aCZcLiS9Q6qF"
   },
   "source": [
    "## 1.2 | Empty Values"
   ]
  },
  {
   "cell_type": "markdown",
   "metadata": {
    "id": "xB5IcRLJq8_G"
   },
   "source": [
    "`Following from support provided in the 'da-2410-chatter' channel surrounding certain column data as strings, a specific method in detecting the string length for potential nulls was applied`"
   ]
  },
  {
   "cell_type": "code",
   "execution_count": 71,
   "metadata": {
    "colab": {
     "base_uri": "https://localhost:8080/"
    },
    "executionInfo": {
     "elapsed": 4,
     "status": "ok",
     "timestamp": 1732626268307,
     "user": {
      "displayName": "BRTechArt -Ben Russell",
      "userId": "07222198556679235222"
     },
     "user_tz": 0
    },
    "id": "KOgdLTtiQ6qF",
    "outputId": "fa94d066-6c5f-433e-f7e7-7ea4c8c0e81f"
   },
   "outputs": [
    {
     "name": "stdout",
     "output_type": "stream",
     "text": [
      "genre_empty_counts =  28\n",
      "keywords_empty_counts =  412\n",
      "production_companies_empty_counts =  351\n",
      "production_countries_empty_counts =  174\n",
      "spoken_languages_empty_counts =  86\n"
     ]
    }
   ],
   "source": [
    "# Count empty values within string columns ('genres', 'keywords', 'production_companies', 'production_countries', 'spoken_languages')\n",
    "\n",
    "genre_empty_counts = df['genres'].str.len() <= 2\n",
    "print('genre_empty_counts = ', genre_empty_counts.sum())\n",
    "\n",
    "keywords_empty_counts = df['keywords'].str.len() <= 2\n",
    "print('keywords_empty_counts = ', keywords_empty_counts.sum())\n",
    "\n",
    "production_companies_empty_counts = df['production_companies'].str.len() <= 2\n",
    "print('production_companies_empty_counts = ', production_companies_empty_counts.sum())\n",
    "\n",
    "production_countries_empty_counts = df['production_countries'].str.len() <= 2\n",
    "print('production_countries_empty_counts = ', production_countries_empty_counts.sum())\n",
    "\n",
    "spoken_languages_empty_counts = df['spoken_languages'].str.len() <= 2\n",
    "print('spoken_languages_empty_counts = ', spoken_languages_empty_counts.sum())"
   ]
  },
  {
   "cell_type": "markdown",
   "metadata": {
    "id": "5Vq8AXhQQ6qF"
   },
   "source": [
    "`These empty string values can be deemed as null in their own right and so should be treated/converted as such.`"
   ]
  },
  {
   "cell_type": "code",
   "execution_count": 72,
   "metadata": {
    "executionInfo": {
     "elapsed": 3,
     "status": "ok",
     "timestamp": 1732626268307,
     "user": {
      "displayName": "BRTechArt -Ben Russell",
      "userId": "07222198556679235222"
     },
     "user_tz": 0
    },
    "id": "b9Bs1ijBQ6qF"
   },
   "outputs": [],
   "source": [
    "# Replace empty string values with 'undetermined'\n",
    "\n",
    "df.loc[genre_empty_counts, 'genres'] = [['undetermined']] * len(df.loc[genre_empty_counts])\n",
    "df.loc[keywords_empty_counts, 'keywords'] = [['undetermined']] * len(df.loc[keywords_empty_counts])\n",
    "df.loc[production_companies_empty_counts, 'production_companies'] = [['undetermined']] * len(df.loc[production_companies_empty_counts])\n",
    "df.loc[production_countries_empty_counts, 'production_countries'] = [['undetermined']] * len(df.loc[production_countries_empty_counts])\n",
    "df.loc[spoken_languages_empty_counts, 'spoken_languages'] = [['undetermined']] * len(df.loc[spoken_languages_empty_counts])"
   ]
  },
  {
   "cell_type": "code",
   "execution_count": 73,
   "metadata": {
    "colab": {
     "base_uri": "https://localhost:8080/"
    },
    "executionInfo": {
     "elapsed": 3,
     "status": "ok",
     "timestamp": 1732626268307,
     "user": {
      "displayName": "BRTechArt -Ben Russell",
      "userId": "07222198556679235222"
     },
     "user_tz": 0
    },
    "id": "Sabfjq9LQ6qG",
    "outputId": "94efa423-51b6-42d6-f306-3f2470107d8d"
   },
   "outputs": [
    {
     "name": "stdout",
     "output_type": "stream",
     "text": [
      "genre_empty_counts =  0\n",
      "keywords_empty_counts =  0\n",
      "production_companies_empty_counts =  0\n",
      "production_countries_empty_counts =  0\n",
      "spoken_languages_empty_counts =  0\n"
     ]
    }
   ],
   "source": [
    "# Count empty values within string columns ('genres', 'keywords', 'production_companies', 'production_countries', 'spoken_languages') after replacement\n",
    "\n",
    "genre_empty_counts = df['genres'].str.len() <= 2\n",
    "print('genre_empty_counts = ', genre_empty_counts.sum())\n",
    "\n",
    "keywords_empty_counts = df['keywords'].str.len() <= 2\n",
    "print('keywords_empty_counts = ', keywords_empty_counts.sum())\n",
    "\n",
    "production_companies_empty_counts = df['production_companies'].str.len() <= 2\n",
    "print('production_companies_empty_counts = ', production_companies_empty_counts.sum())\n",
    "\n",
    "production_countries_empty_counts = df['production_countries'].str.len() <= 2\n",
    "print('production_countries_empty_counts = ', production_countries_empty_counts.sum())\n",
    "\n",
    "spoken_languages_empty_counts = df['spoken_languages'].str.len() <= 2\n",
    "print('spoken_languages_empty_counts = ', spoken_languages_empty_counts.sum())"
   ]
  },
  {
   "cell_type": "markdown",
   "metadata": {
    "id": "GlSAi0bzfFSI"
   },
   "source": [
    "## 1.3 | Duplicate Check"
   ]
  },
  {
   "cell_type": "code",
   "execution_count": 74,
   "metadata": {
    "colab": {
     "base_uri": "https://localhost:8080/"
    },
    "executionInfo": {
     "elapsed": 3,
     "status": "ok",
     "timestamp": 1732626268307,
     "user": {
      "displayName": "BRTechArt -Ben Russell",
      "userId": "07222198556679235222"
     },
     "user_tz": 0
    },
    "id": "XxB8_Uk9fTD4",
    "outputId": "0365f73e-ad4a-4b62-93d8-6a626dc49566"
   },
   "outputs": [
    {
     "name": "stdout",
     "output_type": "stream",
     "text": [
      "Num of duplicate records =  0\n"
     ]
    }
   ],
   "source": [
    "# Check for duplicate records\n",
    "\n",
    "print(\"Num of duplicate records = \", df.duplicated().sum())"
   ]
  },
  {
   "cell_type": "markdown",
   "metadata": {
    "id": "7AkrPCYVDW86"
   },
   "source": [
    "## 1.4 | Extracting String Columns"
   ]
  },
  {
   "cell_type": "markdown",
   "metadata": {
    "id": "sP7bFCBWFX_H"
   },
   "source": [
    "### 1.4.1 | Create Copy Dataset"
   ]
  },
  {
   "cell_type": "code",
   "execution_count": 75,
   "metadata": {
    "executionInfo": {
     "elapsed": 2,
     "status": "ok",
     "timestamp": 1732626268307,
     "user": {
      "displayName": "BRTechArt -Ben Russell",
      "userId": "07222198556679235222"
     },
     "user_tz": 0
    },
    "id": "WhZPFklhukuI"
   },
   "outputs": [],
   "source": [
    "# Create Copy Dataset to include new extracted columns\n",
    "\n",
    "df_extracted = df.copy()"
   ]
  },
  {
   "cell_type": "markdown",
   "metadata": {
    "id": "sVbYxI3_uowI"
   },
   "source": [
    "### 1.4.2 | Custom Function - Extracting String List"
   ]
  },
  {
   "cell_type": "code",
   "execution_count": 76,
   "metadata": {
    "executionInfo": {
     "elapsed": 2,
     "status": "ok",
     "timestamp": 1732626268307,
     "user": {
      "displayName": "BRTechArt -Ben Russell",
      "userId": "07222198556679235222"
     },
     "user_tz": 0
    },
    "id": "uR-033pcFcRz"
   },
   "outputs": [],
   "source": [
    "# Custom Function - Extract string lists from the following columns ('genres', 'keywords', 'production_companies', 'production_countries', 'spoken_languages')\n",
    "\n",
    "def extract_string_list(string_list):\n",
    "    try:\n",
    "        string_list = ast.literal_eval(string_list)\n",
    "        string = []\n",
    "\n",
    "        for item in string_list:\n",
    "          string.append(item['name'])\n",
    "        return string\n",
    "\n",
    "    except (ValueError, SyntaxError):\n",
    "        return 'undetermined'"
   ]
  },
  {
   "cell_type": "markdown",
   "metadata": {
    "id": "QQ9-bbfA-Kvr"
   },
   "source": [
    "### 1.4.3 | Running Custom Function on all String Columns"
   ]
  },
  {
   "cell_type": "code",
   "execution_count": 77,
   "metadata": {
    "executionInfo": {
     "elapsed": 202,
     "status": "ok",
     "timestamp": 1732626268507,
     "user": {
      "displayName": "BRTechArt -Ben Russell",
      "userId": "07222198556679235222"
     },
     "user_tz": 0
    },
    "id": "y6hjxpHb99C9"
   },
   "outputs": [],
   "source": [
    "# Running extract string list on 'genre'\n",
    "\n",
    "df_extracted['genres'] = df_extracted['genres'].apply(extract_string_list)"
   ]
  },
  {
   "cell_type": "code",
   "execution_count": 78,
   "metadata": {
    "executionInfo": {
     "elapsed": 684,
     "status": "ok",
     "timestamp": 1732626269190,
     "user": {
      "displayName": "BRTechArt -Ben Russell",
      "userId": "07222198556679235222"
     },
     "user_tz": 0
    },
    "id": "2FLqN1l8AFHV"
   },
   "outputs": [],
   "source": [
    "# Running extract string list on 'keywords'\n",
    "\n",
    "df_extracted['keywords'] = df_extracted['keywords'].apply(extract_string_list)"
   ]
  },
  {
   "cell_type": "code",
   "execution_count": 79,
   "metadata": {
    "executionInfo": {
     "elapsed": 350,
     "status": "ok",
     "timestamp": 1732626269539,
     "user": {
      "displayName": "BRTechArt -Ben Russell",
      "userId": "07222198556679235222"
     },
     "user_tz": 0
    },
    "id": "JpoX8TYxALFD"
   },
   "outputs": [],
   "source": [
    "# Running extract string list on 'production_companies'\n",
    "\n",
    "df_extracted['production_companies'] = df_extracted['production_companies'].apply(extract_string_list)"
   ]
  },
  {
   "cell_type": "code",
   "execution_count": 80,
   "metadata": {
    "executionInfo": {
     "elapsed": 1,
     "status": "ok",
     "timestamp": 1732626269539,
     "user": {
      "displayName": "BRTechArt -Ben Russell",
      "userId": "07222198556679235222"
     },
     "user_tz": 0
    },
    "id": "DTGPc5HpATAe"
   },
   "outputs": [],
   "source": [
    "# Running extract string list on 'production_countries'\n",
    "\n",
    "df_extracted['production_countries'] = df_extracted['production_countries'].apply(extract_string_list)"
   ]
  },
  {
   "cell_type": "code",
   "execution_count": 81,
   "metadata": {
    "executionInfo": {
     "elapsed": 2,
     "status": "ok",
     "timestamp": 1732626269540,
     "user": {
      "displayName": "BRTechArt -Ben Russell",
      "userId": "07222198556679235222"
     },
     "user_tz": 0
    },
    "id": "KQyuklTLAV1m"
   },
   "outputs": [],
   "source": [
    "# Running extract string list on 'spoken_languages'\n",
    "\n",
    "df_extracted['spoken_languages'] = df_extracted['spoken_languages'].apply(extract_string_list)"
   ]
  },
  {
   "cell_type": "code",
   "execution_count": 82,
   "metadata": {
    "colab": {
     "base_uri": "https://localhost:8080/",
     "height": 608
    },
    "executionInfo": {
     "elapsed": 219,
     "status": "ok",
     "timestamp": 1732626269757,
     "user": {
      "displayName": "BRTechArt -Ben Russell",
      "userId": "07222198556679235222"
     },
     "user_tz": 0
    },
    "id": "RWsGgzVZkeYP",
    "outputId": "ac81e2fb-c3ba-407b-e0b4-91ff371ca454"
   },
   "outputs": [
    {
     "data": {
      "text/html": [
       "<div>\n",
       "<style scoped>\n",
       "    .dataframe tbody tr th:only-of-type {\n",
       "        vertical-align: middle;\n",
       "    }\n",
       "\n",
       "    .dataframe tbody tr th {\n",
       "        vertical-align: top;\n",
       "    }\n",
       "\n",
       "    .dataframe thead th {\n",
       "        text-align: right;\n",
       "    }\n",
       "</style>\n",
       "<table border=\"1\" class=\"dataframe\">\n",
       "  <thead>\n",
       "    <tr style=\"text-align: right;\">\n",
       "      <th></th>\n",
       "      <th>budget</th>\n",
       "      <th>genres</th>\n",
       "      <th>id</th>\n",
       "      <th>keywords</th>\n",
       "      <th>original_language</th>\n",
       "      <th>original_title</th>\n",
       "      <th>overview</th>\n",
       "      <th>popularity</th>\n",
       "      <th>production_companies</th>\n",
       "      <th>production_countries</th>\n",
       "      <th>release_date</th>\n",
       "      <th>revenue</th>\n",
       "      <th>runtime</th>\n",
       "      <th>spoken_languages</th>\n",
       "      <th>status</th>\n",
       "      <th>title</th>\n",
       "      <th>vote_average</th>\n",
       "      <th>vote_count</th>\n",
       "    </tr>\n",
       "  </thead>\n",
       "  <tbody>\n",
       "    <tr>\n",
       "      <th>4798</th>\n",
       "      <td>220000.0</td>\n",
       "      <td>[Action, Crime, Thriller]</td>\n",
       "      <td>9367</td>\n",
       "      <td>[united states–mexico barrier, legs, arms, pap...</td>\n",
       "      <td>es</td>\n",
       "      <td>El Mariachi</td>\n",
       "      <td>El Mariachi just wants to play his guitar and ...</td>\n",
       "      <td>14.269792</td>\n",
       "      <td>[Columbia Pictures]</td>\n",
       "      <td>[Mexico, United States of America]</td>\n",
       "      <td>1992-09-04</td>\n",
       "      <td>2040920.0</td>\n",
       "      <td>81.0</td>\n",
       "      <td>[Español]</td>\n",
       "      <td>Released</td>\n",
       "      <td>El Mariachi</td>\n",
       "      <td>6.6</td>\n",
       "      <td>238.0</td>\n",
       "    </tr>\n",
       "    <tr>\n",
       "      <th>4799</th>\n",
       "      <td>9000.0</td>\n",
       "      <td>[Comedy, Romance]</td>\n",
       "      <td>72766</td>\n",
       "      <td>undetermined</td>\n",
       "      <td>en</td>\n",
       "      <td>Newlyweds</td>\n",
       "      <td>A newlywed couple's honeymoon is upended by th...</td>\n",
       "      <td>0.642552</td>\n",
       "      <td>undetermined</td>\n",
       "      <td>undetermined</td>\n",
       "      <td>2011-12-26</td>\n",
       "      <td>51751835.0</td>\n",
       "      <td>85.0</td>\n",
       "      <td>undetermined</td>\n",
       "      <td>Released</td>\n",
       "      <td>Newlyweds</td>\n",
       "      <td>5.9</td>\n",
       "      <td>5.0</td>\n",
       "    </tr>\n",
       "    <tr>\n",
       "      <th>4800</th>\n",
       "      <td>23000000.0</td>\n",
       "      <td>[Comedy, Drama, Romance, TV Movie]</td>\n",
       "      <td>231617</td>\n",
       "      <td>[date, love at first sight, narration, investi...</td>\n",
       "      <td>en</td>\n",
       "      <td>Signed, Sealed, Delivered</td>\n",
       "      <td>\"Signed, Sealed, Delivered\" introduces a dedic...</td>\n",
       "      <td>1.444476</td>\n",
       "      <td>[Front Street Pictures, Muse Entertainment Ent...</td>\n",
       "      <td>[United States of America]</td>\n",
       "      <td>2013-10-13</td>\n",
       "      <td>51751835.0</td>\n",
       "      <td>120.0</td>\n",
       "      <td>[English]</td>\n",
       "      <td>Released</td>\n",
       "      <td>Signed, Sealed, Delivered</td>\n",
       "      <td>7.0</td>\n",
       "      <td>6.0</td>\n",
       "    </tr>\n",
       "    <tr>\n",
       "      <th>4801</th>\n",
       "      <td>23000000.0</td>\n",
       "      <td>undetermined</td>\n",
       "      <td>126186</td>\n",
       "      <td>undetermined</td>\n",
       "      <td>en</td>\n",
       "      <td>Shanghai Calling</td>\n",
       "      <td>When ambitious New York attorney Sam is sent t...</td>\n",
       "      <td>0.857008</td>\n",
       "      <td>undetermined</td>\n",
       "      <td>[United States of America, China]</td>\n",
       "      <td>2012-05-03</td>\n",
       "      <td>51751835.0</td>\n",
       "      <td>98.0</td>\n",
       "      <td>[English]</td>\n",
       "      <td>Released</td>\n",
       "      <td>Shanghai Calling</td>\n",
       "      <td>5.7</td>\n",
       "      <td>7.0</td>\n",
       "    </tr>\n",
       "    <tr>\n",
       "      <th>4802</th>\n",
       "      <td>23000000.0</td>\n",
       "      <td>[Documentary]</td>\n",
       "      <td>25975</td>\n",
       "      <td>[obsession, camcorder, crush, dream girl]</td>\n",
       "      <td>en</td>\n",
       "      <td>My Date with Drew</td>\n",
       "      <td>Ever since the second grade when he first saw ...</td>\n",
       "      <td>1.929883</td>\n",
       "      <td>[rusty bear entertainment, lucky crow films]</td>\n",
       "      <td>[United States of America]</td>\n",
       "      <td>2005-08-05</td>\n",
       "      <td>51751835.0</td>\n",
       "      <td>90.0</td>\n",
       "      <td>[English]</td>\n",
       "      <td>Released</td>\n",
       "      <td>My Date with Drew</td>\n",
       "      <td>6.3</td>\n",
       "      <td>16.0</td>\n",
       "    </tr>\n",
       "  </tbody>\n",
       "</table>\n",
       "</div>"
      ],
      "text/plain": [
       "          budget                              genres      id  \\\n",
       "4798    220000.0           [Action, Crime, Thriller]    9367   \n",
       "4799      9000.0                   [Comedy, Romance]   72766   \n",
       "4800  23000000.0  [Comedy, Drama, Romance, TV Movie]  231617   \n",
       "4801  23000000.0                        undetermined  126186   \n",
       "4802  23000000.0                       [Documentary]   25975   \n",
       "\n",
       "                                               keywords original_language  \\\n",
       "4798  [united states–mexico barrier, legs, arms, pap...                es   \n",
       "4799                                       undetermined                en   \n",
       "4800  [date, love at first sight, narration, investi...                en   \n",
       "4801                                       undetermined                en   \n",
       "4802          [obsession, camcorder, crush, dream girl]                en   \n",
       "\n",
       "                 original_title  \\\n",
       "4798                El Mariachi   \n",
       "4799                  Newlyweds   \n",
       "4800  Signed, Sealed, Delivered   \n",
       "4801           Shanghai Calling   \n",
       "4802          My Date with Drew   \n",
       "\n",
       "                                               overview  popularity  \\\n",
       "4798  El Mariachi just wants to play his guitar and ...   14.269792   \n",
       "4799  A newlywed couple's honeymoon is upended by th...    0.642552   \n",
       "4800  \"Signed, Sealed, Delivered\" introduces a dedic...    1.444476   \n",
       "4801  When ambitious New York attorney Sam is sent t...    0.857008   \n",
       "4802  Ever since the second grade when he first saw ...    1.929883   \n",
       "\n",
       "                                   production_companies  \\\n",
       "4798                                [Columbia Pictures]   \n",
       "4799                                       undetermined   \n",
       "4800  [Front Street Pictures, Muse Entertainment Ent...   \n",
       "4801                                       undetermined   \n",
       "4802       [rusty bear entertainment, lucky crow films]   \n",
       "\n",
       "                    production_countries release_date     revenue  runtime  \\\n",
       "4798  [Mexico, United States of America]   1992-09-04   2040920.0     81.0   \n",
       "4799                        undetermined   2011-12-26  51751835.0     85.0   \n",
       "4800          [United States of America]   2013-10-13  51751835.0    120.0   \n",
       "4801   [United States of America, China]   2012-05-03  51751835.0     98.0   \n",
       "4802          [United States of America]   2005-08-05  51751835.0     90.0   \n",
       "\n",
       "     spoken_languages    status                      title  vote_average  \\\n",
       "4798        [Español]  Released                El Mariachi           6.6   \n",
       "4799     undetermined  Released                  Newlyweds           5.9   \n",
       "4800        [English]  Released  Signed, Sealed, Delivered           7.0   \n",
       "4801        [English]  Released           Shanghai Calling           5.7   \n",
       "4802        [English]  Released          My Date with Drew           6.3   \n",
       "\n",
       "      vote_count  \n",
       "4798       238.0  \n",
       "4799         5.0  \n",
       "4800         6.0  \n",
       "4801         7.0  \n",
       "4802        16.0  "
      ]
     },
     "execution_count": 82,
     "metadata": {},
     "output_type": "execute_result"
    }
   ],
   "source": [
    "# Preview the amended dataframe\n",
    "\n",
    "df_extracted.tail()"
   ]
  },
  {
   "cell_type": "markdown",
   "metadata": {
    "id": "neEM5PaqJOVR"
   },
   "source": [
    "# 2. | EDA (Exploratory Data Analysis)\n",
    "---"
   ]
  },
  {
   "cell_type": "markdown",
   "metadata": {
    "id": "8H1SS5SRPaBh"
   },
   "source": [
    "## 2.1 | Insights"
   ]
  },
  {
   "cell_type": "markdown",
   "metadata": {
    "id": "Oot7FyGCD8us"
   },
   "source": [
    "### 2.1.1 | Correlation"
   ]
  },
  {
   "cell_type": "code",
   "execution_count": 83,
   "metadata": {
    "colab": {
     "base_uri": "https://localhost:8080/",
     "height": 269
    },
    "executionInfo": {
     "elapsed": 332,
     "status": "ok",
     "timestamp": 1732626282218,
     "user": {
      "displayName": "BRTechArt -Ben Russell",
      "userId": "07222198556679235222"
     },
     "user_tz": 0
    },
    "id": "Ddr-PasPKN5P",
    "outputId": "ac28128e-3c63-4fcc-9570-f0c753d47477"
   },
   "outputs": [
    {
     "data": {
      "text/html": [
       "<div>\n",
       "<style scoped>\n",
       "    .dataframe tbody tr th:only-of-type {\n",
       "        vertical-align: middle;\n",
       "    }\n",
       "\n",
       "    .dataframe tbody tr th {\n",
       "        vertical-align: top;\n",
       "    }\n",
       "\n",
       "    .dataframe thead th {\n",
       "        text-align: right;\n",
       "    }\n",
       "</style>\n",
       "<table border=\"1\" class=\"dataframe\">\n",
       "  <thead>\n",
       "    <tr style=\"text-align: right;\">\n",
       "      <th></th>\n",
       "      <th>budget</th>\n",
       "      <th>id</th>\n",
       "      <th>popularity</th>\n",
       "      <th>revenue</th>\n",
       "      <th>runtime</th>\n",
       "      <th>vote_average</th>\n",
       "      <th>vote_count</th>\n",
       "    </tr>\n",
       "  </thead>\n",
       "  <tbody>\n",
       "    <tr>\n",
       "      <th>budget</th>\n",
       "      <td>1.000000</td>\n",
       "      <td>-0.058501</td>\n",
       "      <td>0.472078</td>\n",
       "      <td>0.708628</td>\n",
       "      <td>0.246599</td>\n",
       "      <td>0.024443</td>\n",
       "      <td>0.567025</td>\n",
       "    </tr>\n",
       "    <tr>\n",
       "      <th>id</th>\n",
       "      <td>-0.058501</td>\n",
       "      <td>1.000000</td>\n",
       "      <td>0.031716</td>\n",
       "      <td>-0.021919</td>\n",
       "      <td>-0.099544</td>\n",
       "      <td>-0.138995</td>\n",
       "      <td>0.013018</td>\n",
       "    </tr>\n",
       "    <tr>\n",
       "      <th>popularity</th>\n",
       "      <td>0.472078</td>\n",
       "      <td>0.031716</td>\n",
       "      <td>1.000000</td>\n",
       "      <td>0.620693</td>\n",
       "      <td>0.221410</td>\n",
       "      <td>0.282462</td>\n",
       "      <td>0.774844</td>\n",
       "    </tr>\n",
       "    <tr>\n",
       "      <th>revenue</th>\n",
       "      <td>0.708628</td>\n",
       "      <td>-0.021919</td>\n",
       "      <td>0.620693</td>\n",
       "      <td>1.000000</td>\n",
       "      <td>0.234577</td>\n",
       "      <td>0.175864</td>\n",
       "      <td>0.763779</td>\n",
       "    </tr>\n",
       "    <tr>\n",
       "      <th>runtime</th>\n",
       "      <td>0.246599</td>\n",
       "      <td>-0.099544</td>\n",
       "      <td>0.221410</td>\n",
       "      <td>0.234577</td>\n",
       "      <td>1.000000</td>\n",
       "      <td>0.354380</td>\n",
       "      <td>0.273063</td>\n",
       "    </tr>\n",
       "    <tr>\n",
       "      <th>vote_average</th>\n",
       "      <td>0.024443</td>\n",
       "      <td>-0.138995</td>\n",
       "      <td>0.282462</td>\n",
       "      <td>0.175864</td>\n",
       "      <td>0.354380</td>\n",
       "      <td>1.000000</td>\n",
       "      <td>0.340798</td>\n",
       "    </tr>\n",
       "    <tr>\n",
       "      <th>vote_count</th>\n",
       "      <td>0.567025</td>\n",
       "      <td>0.013018</td>\n",
       "      <td>0.774844</td>\n",
       "      <td>0.763779</td>\n",
       "      <td>0.273063</td>\n",
       "      <td>0.340798</td>\n",
       "      <td>1.000000</td>\n",
       "    </tr>\n",
       "  </tbody>\n",
       "</table>\n",
       "</div>"
      ],
      "text/plain": [
       "                budget        id  popularity   revenue   runtime  \\\n",
       "budget        1.000000 -0.058501    0.472078  0.708628  0.246599   \n",
       "id           -0.058501  1.000000    0.031716 -0.021919 -0.099544   \n",
       "popularity    0.472078  0.031716    1.000000  0.620693  0.221410   \n",
       "revenue       0.708628 -0.021919    0.620693  1.000000  0.234577   \n",
       "runtime       0.246599 -0.099544    0.221410  0.234577  1.000000   \n",
       "vote_average  0.024443 -0.138995    0.282462  0.175864  0.354380   \n",
       "vote_count    0.567025  0.013018    0.774844  0.763779  0.273063   \n",
       "\n",
       "              vote_average  vote_count  \n",
       "budget            0.024443    0.567025  \n",
       "id               -0.138995    0.013018  \n",
       "popularity        0.282462    0.774844  \n",
       "revenue           0.175864    0.763779  \n",
       "runtime           0.354380    0.273063  \n",
       "vote_average      1.000000    0.340798  \n",
       "vote_count        0.340798    1.000000  "
      ]
     },
     "execution_count": 83,
     "metadata": {},
     "output_type": "execute_result"
    }
   ],
   "source": [
    "# Correlation of the dataset (numerical data only)\n",
    "# Using Pearson's product-moment correlation coefficient method\n",
    "\n",
    "df_extracted.corr(numeric_only = True)"
   ]
  },
  {
   "cell_type": "code",
   "execution_count": 84,
   "metadata": {
    "colab": {
     "base_uri": "https://localhost:8080/",
     "height": 853
    },
    "executionInfo": {
     "elapsed": 794,
     "status": "ok",
     "timestamp": 1732626283010,
     "user": {
      "displayName": "BRTechArt -Ben Russell",
      "userId": "07222198556679235222"
     },
     "user_tz": 0
    },
    "id": "t_cjkcEmD-t-",
    "outputId": "7e05e7ac-c712-4123-e71e-dfa1748db22c"
   },
   "outputs": [
    {
     "data": {
      "image/png": "[encoded data removed]",
      "text/plain": [
       "<Figure size 800x800 with 2 Axes>"
      ]
     },
     "metadata": {},
     "output_type": "display_data"
    }
   ],
   "source": [
    "# Visualiation of correlation\n",
    "\n",
    "plt.figure(figsize = (8,8))\n",
    "\n",
    "sns.heatmap(df_extracted.corr(numeric_only = True),\n",
    "            cmap = 'Blues', annot = True,\n",
    "            fmt = '.1%',\n",
    "            mask = np.triu(df_extracted.corr(numeric_only = True)))\n",
    "\n",
    "plt.title(\"Correlation Matrix\", fontsize=12)\n",
    "plt.show()"
   ]
  },
  {
   "cell_type": "markdown",
   "metadata": {
    "id": "EX8S0M3DKhoa"
   },
   "source": [
    "`This visualisation presents that budget (70.9%) strongly correlate with a movie’s revenue, with some moderate correlation on its popularity (62.1%). Whilst vote count does present a stronger correlation than budget, this is not something I aim to explore within this data analysis.`\n",
    "\n",
    "`The correlation between a movies revenue and its budget and popularity will be something I explore further in this notebook.`"
   ]
  },
  {
   "cell_type": "markdown",
   "metadata": {
    "id": "Qm-aNBQtCCD9"
   },
   "source": [
    "### 2.1.2 | \"Strong\" Correlation between a Movies 'Revenue' and its 'Budget'"
   ]
  },
  {
   "cell_type": "markdown",
   "metadata": {
    "id": "jtIHE1ueILXE"
   },
   "source": [
    "#### 2.1.2.1 | Movie Revenue and Budget"
   ]
  },
  {
   "cell_type": "code",
   "execution_count": 85,
   "metadata": {
    "colab": {
     "base_uri": "https://localhost:8080/",
     "height": 718
    },
    "executionInfo": {
     "elapsed": 1130,
     "status": "ok",
     "timestamp": 1732626284386,
     "user": {
      "displayName": "BRTechArt -Ben Russell",
      "userId": "07222198556679235222"
     },
     "user_tz": 0
    },
    "id": "Agbp-Z4nITZc",
    "outputId": "78059104-6b4b-42fd-95b5-9b24053e8c22"
   },
   "outputs": [
    {
     "data": {
      "image/png": "[encoded data removed]",
      "text/plain": [
       "<Figure size 800x600 with 1 Axes>"
      ]
     },
     "metadata": {},
     "output_type": "display_data"
    }
   ],
   "source": [
    "# Visualisation of the correlation between revenue and budget \n",
    "\n",
    "plt.figure(figsize = (8, 6))\n",
    "sns.scatterplot(data = df_extracted, x = 'budget', y = 'revenue', hue = 'revenue', palette = 'Blues_r')\n",
    "\n",
    "plt.title('Correlation Between Revenue and Budget', fontsize=12)\n",
    "plt.legend(title = 'Revenue', loc = 'upper right', labels = ['50,000,000', '100,000,000', '150,000,000', '200,000,000', '250,000,000'])\n",
    "plt.xlabel('Budget')\n",
    "plt.ylabel('Revenue')\n",
    "plt.show()"
   ]
  },
  {
   "cell_type": "markdown",
   "metadata": {},
   "source": [
    "`There's a moderate positive corrolation of higher revenue associated with higher budgets, which suggests that, on average, movies with larger budgets tend to generate more revenue. However, it's not a one-to-one relationship.`\n",
    "\n",
    "`The scattering of points are not tightly clustered along a line, indicating that budget is not the sole determinant of revenue.`\n",
    "\n",
    "`Additionally, there are some movies with high budgets but relatively low revenue, and vice versa.`"
   ]
  },
  {
   "cell_type": "code",
   "execution_count": 86,
   "metadata": {},
   "outputs": [
    {
     "data": {
      "text/html": [
       "<div>\n",
       "<style scoped>\n",
       "    .dataframe tbody tr th:only-of-type {\n",
       "        vertical-align: middle;\n",
       "    }\n",
       "\n",
       "    .dataframe tbody tr th {\n",
       "        vertical-align: top;\n",
       "    }\n",
       "\n",
       "    .dataframe thead th {\n",
       "        text-align: right;\n",
       "    }\n",
       "</style>\n",
       "<table border=\"1\" class=\"dataframe\">\n",
       "  <thead>\n",
       "    <tr style=\"text-align: right;\">\n",
       "      <th></th>\n",
       "      <th>budget</th>\n",
       "      <th>genres</th>\n",
       "      <th>id</th>\n",
       "      <th>keywords</th>\n",
       "      <th>original_language</th>\n",
       "      <th>original_title</th>\n",
       "      <th>overview</th>\n",
       "      <th>popularity</th>\n",
       "      <th>production_companies</th>\n",
       "      <th>production_countries</th>\n",
       "      <th>release_date</th>\n",
       "      <th>revenue</th>\n",
       "      <th>runtime</th>\n",
       "      <th>spoken_languages</th>\n",
       "      <th>status</th>\n",
       "      <th>title</th>\n",
       "      <th>vote_average</th>\n",
       "      <th>vote_count</th>\n",
       "    </tr>\n",
       "  </thead>\n",
       "  <tbody>\n",
       "    <tr>\n",
       "      <th>0</th>\n",
       "      <td>237000000.0</td>\n",
       "      <td>[Action, Adventure, Fantasy, Science Fiction]</td>\n",
       "      <td>19995</td>\n",
       "      <td>[culture clash, future, space war, space colon...</td>\n",
       "      <td>en</td>\n",
       "      <td>Avatar</td>\n",
       "      <td>In the 22nd century, a paraplegic Marine is di...</td>\n",
       "      <td>150.437577</td>\n",
       "      <td>[Ingenious Film Partners, Twentieth Century Fo...</td>\n",
       "      <td>[United States of America, United Kingdom]</td>\n",
       "      <td>2009-12-10</td>\n",
       "      <td>2.787965e+09</td>\n",
       "      <td>162.0</td>\n",
       "      <td>[English, Español]</td>\n",
       "      <td>Released</td>\n",
       "      <td>Avatar</td>\n",
       "      <td>7.2</td>\n",
       "      <td>11800.0</td>\n",
       "    </tr>\n",
       "    <tr>\n",
       "      <th>17</th>\n",
       "      <td>380000000.0</td>\n",
       "      <td>[Adventure, Action, Fantasy]</td>\n",
       "      <td>1865</td>\n",
       "      <td>[sea, captain, mutiny, sword, prime minister, ...</td>\n",
       "      <td>en</td>\n",
       "      <td>Pirates of the Caribbean: On Stranger Tides</td>\n",
       "      <td>Captain Jack Sparrow crosses paths with a woma...</td>\n",
       "      <td>135.413856</td>\n",
       "      <td>[Walt Disney Pictures, Jerry Bruckheimer Films...</td>\n",
       "      <td>[United States of America]</td>\n",
       "      <td>2011-05-14</td>\n",
       "      <td>1.045714e+09</td>\n",
       "      <td>136.0</td>\n",
       "      <td>[English, Español]</td>\n",
       "      <td>Released</td>\n",
       "      <td>Pirates of the Caribbean: On Stranger Tides</td>\n",
       "      <td>6.4</td>\n",
       "      <td>4948.0</td>\n",
       "    </tr>\n",
       "  </tbody>\n",
       "</table>\n",
       "</div>"
      ],
      "text/plain": [
       "         budget                                         genres     id  \\\n",
       "0   237000000.0  [Action, Adventure, Fantasy, Science Fiction]  19995   \n",
       "17  380000000.0                   [Adventure, Action, Fantasy]   1865   \n",
       "\n",
       "                                             keywords original_language  \\\n",
       "0   [culture clash, future, space war, space colon...                en   \n",
       "17  [sea, captain, mutiny, sword, prime minister, ...                en   \n",
       "\n",
       "                                 original_title  \\\n",
       "0                                        Avatar   \n",
       "17  Pirates of the Caribbean: On Stranger Tides   \n",
       "\n",
       "                                             overview  popularity  \\\n",
       "0   In the 22nd century, a paraplegic Marine is di...  150.437577   \n",
       "17  Captain Jack Sparrow crosses paths with a woma...  135.413856   \n",
       "\n",
       "                                 production_companies  \\\n",
       "0   [Ingenious Film Partners, Twentieth Century Fo...   \n",
       "17  [Walt Disney Pictures, Jerry Bruckheimer Films...   \n",
       "\n",
       "                          production_countries release_date       revenue  \\\n",
       "0   [United States of America, United Kingdom]   2009-12-10  2.787965e+09   \n",
       "17                  [United States of America]   2011-05-14  1.045714e+09   \n",
       "\n",
       "    runtime    spoken_languages    status  \\\n",
       "0     162.0  [English, Español]  Released   \n",
       "17    136.0  [English, Español]  Released   \n",
       "\n",
       "                                          title  vote_average  vote_count  \n",
       "0                                        Avatar           7.2     11800.0  \n",
       "17  Pirates of the Caribbean: On Stranger Tides           6.4      4948.0  "
      ]
     },
     "execution_count": 86,
     "metadata": {},
     "output_type": "execute_result"
    }
   ],
   "source": [
    "# Identify the top movie's with the highest revenue and budget\n",
    "\n",
    "highest_budget = df_extracted['budget'].idxmax()\n",
    "highest_revenue = df_extracted['revenue'].idxmax()\n",
    "\n",
    "df_extracted.loc[(df['budget'] == df['budget'].max()) | (df['revenue'] == df['revenue'].max())]"
   ]
  },
  {
   "cell_type": "markdown",
   "metadata": {
    "id": "dPPuYlPfbFLV"
   },
   "source": [
    "#### 2.1.2.2 | Movie Budget Groups"
   ]
  },
  {
   "cell_type": "code",
   "execution_count": 87,
   "metadata": {
    "colab": {
     "base_uri": "https://localhost:8080/",
     "height": 303
    },
    "executionInfo": {
     "elapsed": 3,
     "status": "ok",
     "timestamp": 1732626284386,
     "user": {
      "displayName": "BRTechArt -Ben Russell",
      "userId": "07222198556679235222"
     },
     "user_tz": 0
    },
    "id": "Sh9YM3JyebAW",
    "outputId": "49745245-bbe0-4630-853e-c0649cbd0adf"
   },
   "outputs": [],
   "source": [
    "# Custom Function - Group movies based on their budget\n",
    "\n",
    "def budget_grouping(budget):\n",
    "    if budget < 10000:\n",
    "        return '0 - 10,000'\n",
    "    elif budget < 100000:\n",
    "        return '10,000 - 100,000'\n",
    "    elif budget < 1000000:\n",
    "        return '100,000 - 1,000,000'\n",
    "    elif budget < 10000000:\n",
    "        return '1,000,000 - 10,000,000'\n",
    "    elif budget < 100000000:\n",
    "        return '10,000,000 - 100,000,000'\n",
    "    else:\n",
    "        return '100,000,000+'\n",
    "\n",
    "# Call custom function on 'budget' column and read\n",
    "\n",
    "df_extracted['budget_group'] = df_extracted['budget'].apply(budget_grouping)"
   ]
  },
  {
   "cell_type": "code",
   "execution_count": 88,
   "metadata": {
    "colab": {
     "base_uri": "https://localhost:8080/",
     "height": 975
    },
    "executionInfo": {
     "elapsed": 386,
     "status": "ok",
     "timestamp": 1732626284770,
     "user": {
      "displayName": "BRTechArt -Ben Russell",
      "userId": "07222198556679235222"
     },
     "user_tz": 0
    },
    "id": "tmixwTHZj8H6",
    "outputId": "5163ea13-0c68-4fa9-ec88-ebf57d1a2a64"
   },
   "outputs": [
    {
     "data": {
      "image/png": "[encoded data removed]",
      "text/plain": [
       "<Figure size 600x600 with 1 Axes>"
      ]
     },
     "metadata": {},
     "output_type": "display_data"
    }
   ],
   "source": [
    "# Visualisation of movie budget groups, identifying the predominate leading budget range\n",
    "\n",
    "plt.figure(figsize = (6,6))\n",
    "\n",
    "sns.countplot(data = df_extracted,\n",
    "              x = 'budget_group',\n",
    "              order = ['0 - 10,000', '10,000 - 100,000', '100,000 - 1,000,000', '1,000,000 - 10,000,000', '10,000,000 - 100,000,000', '100,000,000+'],\n",
    "              hue= 'budget_group',\n",
    "              palette= \"Blues_r\")\n",
    "\n",
    "plt.xticks(rotation = 45,\n",
    "           horizontalalignment = 'right',\n",
    "           fontweight = 'light',\n",
    "           fontsize = 'small',)\n",
    "\n",
    "plt.title('Number of Movies per Budget Group', fontsize=12)\n",
    "plt.xlabel('Budget Groups')\n",
    "plt.show()"
   ]
  },
  {
   "cell_type": "code",
   "execution_count": 89,
   "metadata": {},
   "outputs": [
    {
     "name": "stdout",
     "output_type": "stream",
     "text": [
      "budget_group\n",
      "10,000,000 - 100,000,000    3471\n",
      "1,000,000 - 10,000,000       824\n",
      "100,000,000+                 320\n",
      "100,000 - 1,000,000          130\n",
      "0 - 10,000                    35\n",
      "10,000 - 100,000              23\n",
      "Name: count, dtype: int64\n",
      "\n",
      "Category '10,000,000 - 100,000,000' as percentage (%) of records:     72.3%\n"
     ]
    }
   ],
   "source": [
    "# Value count for the budget grouping and the percentage of the records\n",
    "\n",
    "print(df_extracted['budget_group'].value_counts().sort_values(ascending= False))\n",
    "print(f\"\\nCategory '10,000,000 - 100,000,000' as percentage (%) of records:     {round(3471/4803*100, 1)}%\")\n"
   ]
  },
  {
   "cell_type": "markdown",
   "metadata": {
    "id": "wL2hNgDVoXJP"
   },
   "source": [
    "`This visualisation presents a skewed distribution, with a large cluster of movies in the higher budget groups.`\n",
    "\n",
    "`Most movies are in the 10,000,000 - 100,000,000 range; while the 100,000,000+ group has fewer entries despite its higher budget.`\n",
    "\n",
    "`The lower budget groups (0 - 10,000 and 10,000 - 100,000) have significantly fewer counts, indicating fewer entries with smaller budgets.`"
   ]
  },
  {
   "cell_type": "markdown",
   "metadata": {
    "id": "fNWXAR7MCHm0"
   },
   "source": [
    "#### 2.1.2.3 | Revenue Group-by Budget Groups"
   ]
  },
  {
   "cell_type": "code",
   "execution_count": 90,
   "metadata": {
    "colab": {
     "base_uri": "https://localhost:8080/",
     "height": 975
    },
    "executionInfo": {
     "elapsed": 451,
     "status": "ok",
     "timestamp": 1732626285219,
     "user": {
      "displayName": "BRTechArt -Ben Russell",
      "userId": "07222198556679235222"
     },
     "user_tz": 0
    },
    "id": "pLlaY6VKRM2F",
    "outputId": "b8b0120a-08bb-4ebc-fcc2-b7f08515e8eb"
   },
   "outputs": [
    {
     "data": {
      "image/png": "[encoded data removed]",
      "text/plain": [
       "<Figure size 600x600 with 1 Axes>"
      ]
     },
     "metadata": {},
     "output_type": "display_data"
    }
   ],
   "source": [
    "# Visualisation of the grouping the sum revenue of movies by the above budget group\n",
    "\n",
    "plt.figure(figsize=(6, 6))\n",
    "sns.barplot(x = ['0 - 10,000', '10,000 - 100,000', '100,000 - 1,000,000', '1,000,000 - 10,000,000', '10,000,000 - 100,000,000', '100,000,000+'],\n",
    "            y = [1.055594e+09, 1.141710e+09, 3.469134e+09, 2.958248e+10, 2.893039e+11, 1.443949e+11],\n",
    "            hue= ['0 - 10,000', '10,000 - 100,000', '100,000 - 1,000,000', '1,000,000 - 10,000,000', '10,000,000 - 100,000,000', '100,000,000+'],\n",
    "            palette= \"Blues\")\n",
    "\n",
    "plt.xticks(rotation = 45,\n",
    "           horizontalalignment = 'right',\n",
    "           fontweight = 'light',\n",
    "           fontsize = 'small',)\n",
    "\n",
    "plt.title('Sum Revenue per Budget Group', fontsize=12)\n",
    "plt.xlabel('Budget Groups')\n",
    "plt.ylabel('Sum. Revenue')\n",
    "plt.show()"
   ]
  },
  {
   "cell_type": "code",
   "execution_count": 91,
   "metadata": {
    "colab": {
     "base_uri": "https://localhost:8080/",
     "height": 303
    },
    "executionInfo": {
     "elapsed": 2,
     "status": "ok",
     "timestamp": 1732626284770,
     "user": {
      "displayName": "BRTechArt -Ben Russell",
      "userId": "07222198556679235222"
     },
     "user_tz": 0
    },
    "id": "GAGvpSsTOgdS",
    "outputId": "14e8af1a-bab5-4f66-9d61-b939ef4cea48"
   },
   "outputs": [
    {
     "name": "stdout",
     "output_type": "stream",
     "text": [
      "budget_group\n",
      "10,000,000 - 100,000,000    2.893039e+11\n",
      "100,000,000+                1.443949e+11\n",
      "1,000,000 - 10,000,000      2.958248e+10\n",
      "100,000 - 1,000,000         3.469134e+09\n",
      "10,000 - 100,000            1.141710e+09\n",
      "0 - 10,000                  1.055594e+09\n",
      "Name: revenue, dtype: float64\n",
      "\n",
      "Revenue percentage difference between the top two budget groups:     50.1%\n"
     ]
    }
   ],
   "source": [
    "# Grouping the sum revenue of movies by the above budget group\n",
    "\n",
    "print(df_extracted.groupby('budget_group')['revenue'].sum().sort_values(ascending= False))\n",
    "print(f\"\\nRevenue percentage difference between the top two budget groups:     {round((2.893039e+11 - 1.443949e+11)/2.893039e+11 * 100, 1)}%\")"
   ]
  },
  {
   "cell_type": "markdown",
   "metadata": {
    "id": "zx93hUEVWgzr"
   },
   "source": [
    "`It should come to no surprise that the larger budget groups, such as those between 10,000,000 and 100,000,000, account for the majority of total revenue due to it being the dominant movie count group.`\n",
    "\n",
    "`However, an interesting point that the 100,000,000+ group, despite its considerably smaller number of movies (3151 less movies), they contribute a significant portion of revenue, suggesting these movies generate very high revenue.`\n",
    "\n",
    "`Whereas there appears to be a consistent trend between the lower budget group in relation to their budget and revenue.`"
   ]
  },
  {
   "cell_type": "markdown",
   "metadata": {},
   "source": [
    "### 2.1.3 | \"Moderate\" Correlation between a Movies 'Revenue' and its 'Popularity'"
   ]
  },
  {
   "cell_type": "code",
   "execution_count": 92,
   "metadata": {},
   "outputs": [
    {
     "data": {
      "image/png": "[encoded data removed]",
      "text/plain": [
       "<Figure size 800x600 with 1 Axes>"
      ]
     },
     "metadata": {},
     "output_type": "display_data"
    }
   ],
   "source": [
    "# Visualisation of the correlation between revenue and popularity\n",
    "\n",
    "plt.figure(figsize = (8, 6))\n",
    "sns.scatterplot(data = df_extracted, x = 'popularity', y = 'revenue', hue = 'revenue', palette = 'Blues_r')\n",
    "\n",
    "plt.title('Correlation Between Revenue and Popularity', fontsize=12)\n",
    "plt.legend(title = 'Revenue', loc = 'upper right', labels = ['50,000,000', '100,000,000', '150,000,000', '200,000,000', '250,000,000'])\n",
    "plt.xlabel('Popularity')\n",
    "plt.ylabel('Revenue')\n",
    "plt.show()"
   ]
  },
  {
   "cell_type": "markdown",
   "metadata": {},
   "source": [
    "`This visualisation represents a weak positive correlation between a movies popularity and its revenue. This means that as popularity increases, revenue tends to increase as well, but the relationship is not very strong.`\n",
    "\n",
    "`There is a clear cluster around lower popularity and revenue values, with fewer data points in the higher ranges. Predominant outliers within the data, which suggest that popularity does not guarantee high revenue.`\n"
   ]
  },
  {
   "cell_type": "code",
   "execution_count": 93,
   "metadata": {},
   "outputs": [
    {
     "data": {
      "text/html": [
       "<div>\n",
       "<style scoped>\n",
       "    .dataframe tbody tr th:only-of-type {\n",
       "        vertical-align: middle;\n",
       "    }\n",
       "\n",
       "    .dataframe tbody tr th {\n",
       "        vertical-align: top;\n",
       "    }\n",
       "\n",
       "    .dataframe thead th {\n",
       "        text-align: right;\n",
       "    }\n",
       "</style>\n",
       "<table border=\"1\" class=\"dataframe\">\n",
       "  <thead>\n",
       "    <tr style=\"text-align: right;\">\n",
       "      <th></th>\n",
       "      <th>budget</th>\n",
       "      <th>genres</th>\n",
       "      <th>id</th>\n",
       "      <th>keywords</th>\n",
       "      <th>original_language</th>\n",
       "      <th>original_title</th>\n",
       "      <th>overview</th>\n",
       "      <th>popularity</th>\n",
       "      <th>production_companies</th>\n",
       "      <th>production_countries</th>\n",
       "      <th>release_date</th>\n",
       "      <th>revenue</th>\n",
       "      <th>runtime</th>\n",
       "      <th>spoken_languages</th>\n",
       "      <th>status</th>\n",
       "      <th>title</th>\n",
       "      <th>vote_average</th>\n",
       "      <th>vote_count</th>\n",
       "      <th>budget_group</th>\n",
       "    </tr>\n",
       "  </thead>\n",
       "  <tbody>\n",
       "    <tr>\n",
       "      <th>0</th>\n",
       "      <td>237000000.0</td>\n",
       "      <td>[Action, Adventure, Fantasy, Science Fiction]</td>\n",
       "      <td>19995</td>\n",
       "      <td>[culture clash, future, space war, space colon...</td>\n",
       "      <td>en</td>\n",
       "      <td>Avatar</td>\n",
       "      <td>In the 22nd century, a paraplegic Marine is di...</td>\n",
       "      <td>150.437577</td>\n",
       "      <td>[Ingenious Film Partners, Twentieth Century Fo...</td>\n",
       "      <td>[United States of America, United Kingdom]</td>\n",
       "      <td>2009-12-10</td>\n",
       "      <td>2.787965e+09</td>\n",
       "      <td>162.0</td>\n",
       "      <td>[English, Español]</td>\n",
       "      <td>Released</td>\n",
       "      <td>Avatar</td>\n",
       "      <td>7.2</td>\n",
       "      <td>11800.0</td>\n",
       "      <td>100,000,000+</td>\n",
       "    </tr>\n",
       "    <tr>\n",
       "      <th>546</th>\n",
       "      <td>74000000.0</td>\n",
       "      <td>[Family, Animation, Adventure, Comedy]</td>\n",
       "      <td>211672</td>\n",
       "      <td>[assistant, aftercreditsstinger, duringcredits...</td>\n",
       "      <td>en</td>\n",
       "      <td>Minions</td>\n",
       "      <td>Minions Stuart, Kevin and Bob are recruited by...</td>\n",
       "      <td>875.581305</td>\n",
       "      <td>[Universal Pictures, Illumination Entertainment]</td>\n",
       "      <td>[United States of America]</td>\n",
       "      <td>2015-06-17</td>\n",
       "      <td>1.156731e+09</td>\n",
       "      <td>91.0</td>\n",
       "      <td>[English]</td>\n",
       "      <td>Released</td>\n",
       "      <td>Minions</td>\n",
       "      <td>6.4</td>\n",
       "      <td>4571.0</td>\n",
       "      <td>10,000,000 - 100,000,000</td>\n",
       "    </tr>\n",
       "  </tbody>\n",
       "</table>\n",
       "</div>"
      ],
      "text/plain": [
       "          budget                                         genres      id  \\\n",
       "0    237000000.0  [Action, Adventure, Fantasy, Science Fiction]   19995   \n",
       "546   74000000.0         [Family, Animation, Adventure, Comedy]  211672   \n",
       "\n",
       "                                              keywords original_language  \\\n",
       "0    [culture clash, future, space war, space colon...                en   \n",
       "546  [assistant, aftercreditsstinger, duringcredits...                en   \n",
       "\n",
       "    original_title                                           overview  \\\n",
       "0           Avatar  In the 22nd century, a paraplegic Marine is di...   \n",
       "546        Minions  Minions Stuart, Kevin and Bob are recruited by...   \n",
       "\n",
       "     popularity                               production_companies  \\\n",
       "0    150.437577  [Ingenious Film Partners, Twentieth Century Fo...   \n",
       "546  875.581305   [Universal Pictures, Illumination Entertainment]   \n",
       "\n",
       "                           production_countries release_date       revenue  \\\n",
       "0    [United States of America, United Kingdom]   2009-12-10  2.787965e+09   \n",
       "546                  [United States of America]   2015-06-17  1.156731e+09   \n",
       "\n",
       "     runtime    spoken_languages    status    title  vote_average  vote_count  \\\n",
       "0      162.0  [English, Español]  Released   Avatar           7.2     11800.0   \n",
       "546     91.0           [English]  Released  Minions           6.4      4571.0   \n",
       "\n",
       "                 budget_group  \n",
       "0                100,000,000+  \n",
       "546  10,000,000 - 100,000,000  "
      ]
     },
     "execution_count": 93,
     "metadata": {},
     "output_type": "execute_result"
    }
   ],
   "source": [
    "# Identify the top movie's with the highest revenue and popularity\n",
    "\n",
    "highest_budget = df_extracted['popularity'].idxmax()\n",
    "highest_revenue = df_extracted['revenue'].idxmax()\n",
    "\n",
    "df_extracted.loc[(df['popularity'] == df['popularity'].max()) | (df['revenue'] == df['revenue'].max())]"
   ]
  },
  {
   "cell_type": "code",
   "execution_count": 94,
   "metadata": {},
   "outputs": [
    {
     "data": {
      "image/png": "[encoded data removed]",
      "text/plain": [
       "<Figure size 600x600 with 1 Axes>"
      ]
     },
     "metadata": {},
     "output_type": "display_data"
    }
   ],
   "source": [
    "# Visualisation of the grouping the sum revenue of movies by the above budget group\n",
    "\n",
    "plt.figure(figsize=(6, 6))\n",
    "sns.barplot(x = ['0 - 10,000', '10,000 - 100,000', '100,000 - 1,000,000', '1,000,000 - 10,000,000', '10,000,000 - 100,000,000', '100,000,000+'],\n",
    "            y = [ 4.154314, 9.533050, 10.514398, 14.707301, 19.369553, 69.271720],\n",
    "            hue= ['0 - 10,000', '10,000 - 100,000', '100,000 - 1,000,000', '1,000,000 - 10,000,000', '10,000,000 - 100,000,000', '100,000,000+'],\n",
    "            palette= \"Blues\")\n",
    "\n",
    "plt.xticks(rotation = 45,\n",
    "           horizontalalignment = 'right',\n",
    "           fontweight = 'light',\n",
    "           fontsize = 'small',)\n",
    "\n",
    "plt.title('Mean Popularity per Budget Group', fontsize=12)\n",
    "plt.xlabel('Budget Groups')\n",
    "plt.ylabel('Mean. Populairty')\n",
    "plt.show()"
   ]
  },
  {
   "cell_type": "code",
   "execution_count": 95,
   "metadata": {},
   "outputs": [
    {
     "name": "stdout",
     "output_type": "stream",
     "text": [
      "budget_group\n",
      "100,000,000+                69.271720\n",
      "10,000,000 - 100,000,000    19.369553\n",
      "1,000,000 - 10,000,000      14.707301\n",
      "100,000 - 1,000,000         10.514398\n",
      "10,000 - 100,000             9.533050\n",
      "0 - 10,000                   4.154314\n",
      "Name: popularity, dtype: float64\n",
      "\n",
      "Popularity percentage(%) difference between the top two budget groups:     72.0%\n"
     ]
    }
   ],
   "source": [
    "# Grouping the sum revenue of movies by the above budget group\n",
    "\n",
    "print(df_extracted.groupby('budget_group')['popularity'].mean().sort_values(ascending= False))\n",
    "print(f\"\\nPopularity percentage(%) difference between the top two budget groups:     {round((69.271720 - 19.369553)/69.271720 * 100, 1)}%\")"
   ]
  },
  {
   "cell_type": "markdown",
   "metadata": {
    "id": "wxoqmeZ1CvVQ"
   },
   "source": [
    "## 2.2 | SOA (Single Observation Analysis)"
   ]
  },
  {
   "cell_type": "markdown",
   "metadata": {
    "id": "i8k_GcBYMb6R"
   },
   "source": [
    "### 2.2.1 | SOA Parameters"
   ]
  },
  {
   "cell_type": "markdown",
   "metadata": {
    "id": "f9nq7Z1QeWQP"
   },
   "source": [
    "`Here are the parameters for selecting the appropriate movie:`\n",
    "\n",
    "` 1. Identical: budget, main genre (the first id listed), original language, production countries, release date (by year) and status`\n",
    "\n",
    "` 2. Multiple production companies listed.`\n",
    "\n",
    "` 3. All original data. Not in-filled by my cleaning process`"
   ]
  },
  {
   "cell_type": "markdown",
   "metadata": {},
   "source": [
    "`Following the above parameters, the following movies were selected:`"
   ]
  },
  {
   "cell_type": "code",
   "execution_count": 96,
   "metadata": {
    "colab": {
     "base_uri": "https://localhost:8080/",
     "height": 271
    },
    "executionInfo": {
     "elapsed": 236,
     "status": "ok",
     "timestamp": 1732628663938,
     "user": {
      "displayName": "BRTechArt -Ben Russell",
      "userId": "07222198556679235222"
     },
     "user_tz": 0
    },
    "id": "OuPxjVpIhqBa",
    "outputId": "a8d781c6-d6ce-48ad-ddf0-810d4b5c33e7"
   },
   "outputs": [
    {
     "data": {
      "text/html": [
       "<div>\n",
       "<style scoped>\n",
       "    .dataframe tbody tr th:only-of-type {\n",
       "        vertical-align: middle;\n",
       "    }\n",
       "\n",
       "    .dataframe tbody tr th {\n",
       "        vertical-align: top;\n",
       "    }\n",
       "\n",
       "    .dataframe thead th {\n",
       "        text-align: right;\n",
       "    }\n",
       "</style>\n",
       "<table border=\"1\" class=\"dataframe\">\n",
       "  <thead>\n",
       "    <tr style=\"text-align: right;\">\n",
       "      <th></th>\n",
       "      <th>budget</th>\n",
       "      <th>genres</th>\n",
       "      <th>id</th>\n",
       "      <th>keywords</th>\n",
       "      <th>original_language</th>\n",
       "      <th>original_title</th>\n",
       "      <th>overview</th>\n",
       "      <th>popularity</th>\n",
       "      <th>production_companies</th>\n",
       "      <th>production_countries</th>\n",
       "      <th>release_date</th>\n",
       "      <th>revenue</th>\n",
       "      <th>runtime</th>\n",
       "      <th>spoken_languages</th>\n",
       "      <th>status</th>\n",
       "      <th>title</th>\n",
       "      <th>vote_average</th>\n",
       "      <th>vote_count</th>\n",
       "      <th>budget_group</th>\n",
       "    </tr>\n",
       "  </thead>\n",
       "  <tbody>\n",
       "    <tr>\n",
       "      <th>4350</th>\n",
       "      <td>1000000.0</td>\n",
       "      <td>[Documentary]</td>\n",
       "      <td>1781</td>\n",
       "      <td>[climate change, greenhouse effect, climate, e...</td>\n",
       "      <td>en</td>\n",
       "      <td>An Inconvenient Truth</td>\n",
       "      <td>A documentary on Al Gore's campaign to make th...</td>\n",
       "      <td>14.139004</td>\n",
       "      <td>[Lawrence Bender Productions, Paramount Classi...</td>\n",
       "      <td>[United States of America]</td>\n",
       "      <td>2006-01-24</td>\n",
       "      <td>46243000.0</td>\n",
       "      <td>100.0</td>\n",
       "      <td>[English]</td>\n",
       "      <td>Released</td>\n",
       "      <td>An Inconvenient Truth</td>\n",
       "      <td>6.7</td>\n",
       "      <td>251.0</td>\n",
       "      <td>1,000,000 - 10,000,000</td>\n",
       "    </tr>\n",
       "    <tr>\n",
       "      <th>4366</th>\n",
       "      <td>1000000.0</td>\n",
       "      <td>[Documentary]</td>\n",
       "      <td>13508</td>\n",
       "      <td>[energy supply, automobile industry, independe...</td>\n",
       "      <td>en</td>\n",
       "      <td>Who Killed the Electric Car?</td>\n",
       "      <td>In 1996, electric cars began to appear on road...</td>\n",
       "      <td>5.323184</td>\n",
       "      <td>[Electric Entertainment, Plinyminor, Papercut ...</td>\n",
       "      <td>[United States of America]</td>\n",
       "      <td>2006-08-04</td>\n",
       "      <td>1678874.0</td>\n",
       "      <td>92.0</td>\n",
       "      <td>[English, Français, Magyar]</td>\n",
       "      <td>Released</td>\n",
       "      <td>Who Killed the Electric Car?</td>\n",
       "      <td>7.2</td>\n",
       "      <td>59.0</td>\n",
       "      <td>1,000,000 - 10,000,000</td>\n",
       "    </tr>\n",
       "  </tbody>\n",
       "</table>\n",
       "</div>"
      ],
      "text/plain": [
       "         budget         genres     id  \\\n",
       "4350  1000000.0  [Documentary]   1781   \n",
       "4366  1000000.0  [Documentary]  13508   \n",
       "\n",
       "                                               keywords original_language  \\\n",
       "4350  [climate change, greenhouse effect, climate, e...                en   \n",
       "4366  [energy supply, automobile industry, independe...                en   \n",
       "\n",
       "                    original_title  \\\n",
       "4350         An Inconvenient Truth   \n",
       "4366  Who Killed the Electric Car?   \n",
       "\n",
       "                                               overview  popularity  \\\n",
       "4350  A documentary on Al Gore's campaign to make th...   14.139004   \n",
       "4366  In 1996, electric cars began to appear on road...    5.323184   \n",
       "\n",
       "                                   production_companies  \\\n",
       "4350  [Lawrence Bender Productions, Paramount Classi...   \n",
       "4366  [Electric Entertainment, Plinyminor, Papercut ...   \n",
       "\n",
       "            production_countries release_date     revenue  runtime  \\\n",
       "4350  [United States of America]   2006-01-24  46243000.0    100.0   \n",
       "4366  [United States of America]   2006-08-04   1678874.0     92.0   \n",
       "\n",
       "                 spoken_languages    status                         title  \\\n",
       "4350                    [English]  Released         An Inconvenient Truth   \n",
       "4366  [English, Français, Magyar]  Released  Who Killed the Electric Car?   \n",
       "\n",
       "      vote_average  vote_count            budget_group  \n",
       "4350           6.7       251.0  1,000,000 - 10,000,000  \n",
       "4366           7.2        59.0  1,000,000 - 10,000,000  "
      ]
     },
     "execution_count": 96,
     "metadata": {},
     "output_type": "execute_result"
    }
   ],
   "source": [
    "# Preview chosen movies from data frame\n",
    "\n",
    "# Transparency: selection by elimination was done through the .csv data file (excel)\n",
    "\n",
    "df_soa = df_extracted.loc[(df_extracted['id'] == 1781) | (df_extracted['id'] == 13508)]\n",
    "df_soa"
   ]
  },
  {
   "cell_type": "markdown",
   "metadata": {},
   "source": [
    "`Additional factors for why these two were chosen was for their cultural relevance surrounding environmental awareness. Both documentaries’ keywords revolve around this topic, from 'climate change', 'greenhouse effect' and 'energy supplies. Although, it must be acknowledged that the 'An Inconvenient Truth' focused heavily on this topic compared to 'Who Killed the Electric Car?`\n",
    "\n",
    "`The most notable differences between these two records however, is their popularity, revenue and vote count`"
   ]
  },
  {
   "cell_type": "code",
   "execution_count": 97,
   "metadata": {},
   "outputs": [
    {
     "data": {
      "image/png": "[encoded data removed]",
      "text/plain": [
       "<Figure size 600x600 with 1 Axes>"
      ]
     },
     "metadata": {},
     "output_type": "display_data"
    }
   ],
   "source": [
    "# Barplot comparing SOA popularity\n",
    "plt.figure(figsize= (6, 6))\n",
    "sns.barplot(data= df_soa, \n",
    "            x= 'title', \n",
    "            y= 'popularity',\n",
    "            hue= 'title',\n",
    "            palette= 'Blues_r')\n",
    "\n",
    "plt.xticks(rotation = 45,\n",
    "           horizontalalignment = 'right',\n",
    "           fontweight = 'light',\n",
    "           fontsize = 'small',)\n",
    "\n",
    "\n",
    "plt.title('SOA Popularity Comparison', fontsize=12)\n",
    "plt.xlabel('Title')\n",
    "plt.ylabel('Popularity')\n",
    "plt.show()"
   ]
  },
  {
   "cell_type": "markdown",
   "metadata": {},
   "source": [
    "`The 'An Inconvenient Truth' documentary had a significantly higher popularity (14.1) compared with 'Who Killed the Electric Car?' (5.3) being a 90.7% difference.`\n",
    "\n",
    "\n",
    "`Some considerations around its popularity, being that the former was considered as a landmark documentary in environmental activism, leading to educational campaigns and heightened public awareness of climate change. So much so, that future articles would reflect and compare the state of the environment to it, as such by (The Climate Reality Project, 2017)`"
   ]
  },
  {
   "cell_type": "code",
   "execution_count": 98,
   "metadata": {},
   "outputs": [
    {
     "data": {
      "image/png": "[encoded data removed]",
      "text/plain": [
       "<Figure size 600x600 with 1 Axes>"
      ]
     },
     "metadata": {},
     "output_type": "display_data"
    }
   ],
   "source": [
    "# Barplot comparing SOA revenue\n",
    "plt.figure(figsize= (6, 6))\n",
    "sns.barplot(data= df_soa, \n",
    "            x= 'title', \n",
    "            y= 'revenue',\n",
    "            hue= 'title',\n",
    "            palette= 'Blues_r')\n",
    "\n",
    "plt.xticks(rotation = 45,\n",
    "           horizontalalignment = 'right',\n",
    "           fontweight = 'light',\n",
    "           fontsize = 'small',)\n",
    "\n",
    "\n",
    "plt.title('SOA Revenue Comparison', fontsize=12)\n",
    "plt.xlabel('Title')\n",
    "plt.ylabel('Revenue')\n",
    "plt.show()"
   ]
  },
  {
   "cell_type": "markdown",
   "metadata": {},
   "source": [
    "`With it's booming popularity, this correlated with its high revenue (46.24 million) compared with 'Who Killed the Electric Car?' (1.67 million) being a 96.4% difference. However, some consideration around a specific keyword from the 'Who Killed the Electric Car?' documentary, that being an independent film.`\n",
    "\n",
    "`An independent film is typically associated with a production that is outside of the major film studio system. This may be the leading factor in its lower performing popularity and revenue.`"
   ]
  },
  {
   "cell_type": "code",
   "execution_count": 99,
   "metadata": {},
   "outputs": [
    {
     "data": {
      "image/png": "[encoded data removed]",
      "text/plain": [
       "<Figure size 600x600 with 1 Axes>"
      ]
     },
     "metadata": {},
     "output_type": "display_data"
    }
   ],
   "source": [
    "# Barplot comparing SOA revenue\n",
    "plt.figure(figsize= (6, 6))\n",
    "sns.barplot(data= df_soa, \n",
    "            x= 'title', \n",
    "            y= 'vote_average',\n",
    "            hue= 'title',\n",
    "            palette= 'Blues_r')\n",
    "\n",
    "plt.xticks(rotation = 45,\n",
    "           horizontalalignment = 'right',\n",
    "           fontweight = 'light',\n",
    "           fontsize = 'small',)\n",
    "\n",
    "\n",
    "plt.title('SOA Average Rating Comparison', fontsize=12)\n",
    "plt.xlabel('Title')\n",
    "plt.ylabel('Average Rating')\n",
    "plt.show()"
   ]
  },
  {
   "cell_type": "markdown",
   "metadata": {},
   "source": [
    "`That said, 'Who Killed the Electric Car?' had a slightly higher average rating (7.2) compared with the 'An Inconvenient Truth' (6.7), being a 7.5% difference.`\n",
    "\n",
    "` This indicates a stronger appreciation from a smaller audience, as the vote count between the two ('An Inconvenient Truth'(251) vs 'Who Killed the Electric Car?' (59)) is a significant difference.`"
   ]
  },
  {
   "cell_type": "markdown",
   "metadata": {},
   "source": [
    "# 3. | Summary of Analysis\n",
    "---"
   ]
  },
  {
   "cell_type": "markdown",
   "metadata": {},
   "source": [
    "`- A strong positive correlation exists between revenue and budget, whilst its popularity has a moderate positive correlation.`\n",
    "\n",
    "`- Budget is not the sole determinant of revenue, and most movies have budgets between 10 and 100 million.`\n",
    "\n",
    "`- 'An Inconvenient Truth' had higher popularity, revenue, and broader audience appeal;`\n",
    "\n",
    "`- While 'Who Killed the Electric Car?' had a smaller audience and lower revenue, possibly due to its independent film status.`\n"
   ]
  },
  {
   "cell_type": "markdown",
   "metadata": {
    "id": "lAVvBXau_63S"
   },
   "source": [
    "# 4. | References\n",
    "---"
   ]
  },
  {
   "cell_type": "markdown",
   "metadata": {
    "id": "4-vKaQnr_9th"
   },
   "source": [
    "Ayaz, B. (2024). *Movie Data Analysis*, Kaggle. Available at: https://www.kaggle.com/code/berivanayaz/movie-data-analysis#Feature-Engineering-&-Feature-Selection (Accessed: 25 November 2024)."
   ]
  },
  {
   "cell_type": "markdown",
   "metadata": {
    "id": "N3ldqE5GqQaZ"
   },
   "source": [
    "The Climate Reality Project. (2017). *An inconvenient truth then and now: What’s changed for our climate since 2006?*, The Climate Reality Project. Available at: https://www.climaterealityproject.org/blog/inconvenient-truth-then-and-now (Accessed: 26 November 2024)."
   ]
  },
  {
   "cell_type": "markdown",
   "metadata": {
    "id": "3w22EHPrsUk7"
   },
   "source": [
    "The Movie Database (TMDb). (n.d). *Movie Bible*, TMDB. Available at: https://www.themoviedb.org/bible/movie#59f3b1749251414f2000000b (Accessed: 25 November 2024)."
   ]
  },
  {
   "cell_type": "markdown",
   "metadata": {
    "id": "qfrmcQFLr7l8"
   },
   "source": [
    "The Movie Database (TMDb). (2017). *TMDB 5000 Movie Dataset*, Kaggle. Available at: https://www.kaggle.com/datasets/tmdb/tmdb-movie-metadata?select=tmdb_5000_movies.csv (Accessed: 25 November 2024)."
   ]
  }
 ],
 "metadata": {
  "colab": {
   "authorship_tag": "ABX9TyPahyMge3zPgkGy+IOpKF5z",
   "collapsed_sections": [
    "g-vqNUMLu6iS",
    "ZkMj5eJk3U22",
    "giRYODFj84ik",
    "RSWaALuh365d",
    "neEM5PaqJOVR",
    "wxoqmeZ1CvVQ",
    "lAVvBXau_63S"
   ],
   "provenance": [],
   "toc_visible": true
  },
  "kernelspec": {
   "display_name": ".venv",
   "language": "python",
   "name": "python3"
  },
  "language_info": {
   "codemirror_mode": {
    "name": "ipython",
    "version": 3
   },
   "file_extension": ".py",
   "mimetype": "text/x-python",
   "name": "python",
   "nbconvert_exporter": "python",
   "pygments_lexer": "ipython3",
   "version": "3.12.7"
  }
 },
 "nbformat": 4,
 "nbformat_minor": 0
}
